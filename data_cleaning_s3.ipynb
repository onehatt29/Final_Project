{
  "cells": [
    {
      "cell_type": "markdown",
      "metadata": {
        "id": "view-in-github",
        "colab_type": "text"
      },
      "source": [
        "<a href=\"https://colab.research.google.com/github/HarryWightJr/final_project/blob/main/data_cleaning_s3.ipynb\" target=\"_parent\"><img src=\"https://colab.research.google.com/assets/colab-badge.svg\" alt=\"Open In Colab\"/></a>"
      ]
    },
    {
      "cell_type": "code",
      "source": [
        "import os\n",
        "# Find the latest version of spark 3.0  from http://www.apache.org/dist/spark/ and enter as the spark version\n",
        "# For example:\n",
        "# spark_version = 'spark-3.0.3'\n",
        "spark_version = 'spark-3.2.1'\n",
        "os.environ['SPARK_VERSION']=spark_version\n",
        "\n",
        "# Install Spark and Java\n",
        "!apt-get update\n",
        "!apt-get install openjdk-11-jdk-headless -qq > /dev/null\n",
        "!wget -q http://www.apache.org/dist/spark/$SPARK_VERSION/$SPARK_VERSION-bin-hadoop2.7.tgz\n",
        "!tar xf $SPARK_VERSION-bin-hadoop2.7.tgz\n",
        "!pip install -q findspark\n",
        "\n",
        "# Set Environment Variables\n",
        "os.environ[\"JAVA_HOME\"] = \"/usr/lib/jvm/java-11-openjdk-amd64\"\n",
        "os.environ[\"SPARK_HOME\"] = f\"/content/{spark_version}-bin-hadoop2.7\"\n",
        "\n",
        "# Start a SparkSession\n",
        "import findspark\n",
        "findspark.init()"
      ],
      "metadata": {
        "colab": {
          "base_uri": "https://localhost:8080/"
        },
        "id": "j_ZcNyvDMq8C",
        "outputId": "3bf90b61-0556-4f77-ee26-0bc1f32ca44e"
      },
      "id": "j_ZcNyvDMq8C",
      "execution_count": 1,
      "outputs": [
        {
          "output_type": "stream",
          "name": "stdout",
          "text": [
            "\r0% [Working]\r            \rIgn:1 https://developer.download.nvidia.com/compute/cuda/repos/ubuntu1804/x86_64  InRelease\n",
            "\r0% [Connecting to archive.ubuntu.com (91.189.91.38)] [Connecting to security.ub\r                                                                               \rGet:2 https://cloud.r-project.org/bin/linux/ubuntu bionic-cran40/ InRelease [3,626 B]\n",
            "\r0% [Connecting to archive.ubuntu.com (91.189.91.38)] [Connecting to security.ub\r0% [Connecting to archive.ubuntu.com (91.189.91.38)] [Connecting to security.ub\r                                                                               \rIgn:3 https://developer.download.nvidia.com/compute/machine-learning/repos/ubuntu1804/x86_64  InRelease\n",
            "\r0% [Waiting for headers] [Waiting for headers] [Connecting to ppa.launchpad.net\r0% [2 InRelease gpgv 3,626 B] [Waiting for headers] [Waiting for headers] [Conn\r                                                                               \rHit:4 https://developer.download.nvidia.com/compute/cuda/repos/ubuntu1804/x86_64  Release\n",
            "Hit:5 https://developer.download.nvidia.com/compute/machine-learning/repos/ubuntu1804/x86_64  Release\n",
            "Get:6 http://security.ubuntu.com/ubuntu bionic-security InRelease [88.7 kB]\n",
            "Hit:7 http://archive.ubuntu.com/ubuntu bionic InRelease\n",
            "Get:8 http://archive.ubuntu.com/ubuntu bionic-updates InRelease [88.7 kB]\n",
            "Hit:9 http://ppa.launchpad.net/c2d4u.team/c2d4u4.0+/ubuntu bionic InRelease\n",
            "Get:10 http://archive.ubuntu.com/ubuntu bionic-backports InRelease [74.6 kB]\n",
            "Hit:12 http://ppa.launchpad.net/cran/libgit2/ubuntu bionic InRelease\n",
            "Get:14 http://ppa.launchpad.net/deadsnakes/ppa/ubuntu bionic InRelease [15.9 kB]\n",
            "Hit:15 http://ppa.launchpad.net/graphics-drivers/ppa/ubuntu bionic InRelease\n",
            "Get:16 http://security.ubuntu.com/ubuntu bionic-security/universe amd64 Packages [1,484 kB]\n",
            "Get:17 http://archive.ubuntu.com/ubuntu bionic-updates/main amd64 Packages [3,098 kB]\n",
            "Get:18 http://security.ubuntu.com/ubuntu bionic-security/main amd64 Packages [2,660 kB]\n",
            "Get:19 http://archive.ubuntu.com/ubuntu bionic-updates/universe amd64 Packages [2,262 kB]\n",
            "Get:20 http://archive.ubuntu.com/ubuntu bionic-updates/multiverse amd64 Packages [29.8 kB]\n",
            "Get:21 http://ppa.launchpad.net/deadsnakes/ppa/ubuntu bionic/main amd64 Packages [45.8 kB]\n",
            "Fetched 9,850 kB in 4s (2,209 kB/s)\n",
            "Reading package lists... Done\n"
          ]
        }
      ]
    },
    {
      "cell_type": "code",
      "source": [
        "!wget https://jdbc.postgresql.org/download/postgresql-42.2.16.jar"
      ],
      "metadata": {
        "colab": {
          "base_uri": "https://localhost:8080/"
        },
        "id": "_jaJM2gwM-9W",
        "outputId": "94ee2240-5f07-45ee-8051-d61ba512df5b"
      },
      "id": "_jaJM2gwM-9W",
      "execution_count": 2,
      "outputs": [
        {
          "output_type": "stream",
          "name": "stdout",
          "text": [
            "--2022-03-24 21:39:52--  https://jdbc.postgresql.org/download/postgresql-42.2.16.jar\n",
            "Resolving jdbc.postgresql.org (jdbc.postgresql.org)... 72.32.157.228, 2001:4800:3e1:1::228\n",
            "Connecting to jdbc.postgresql.org (jdbc.postgresql.org)|72.32.157.228|:443... connected.\n",
            "HTTP request sent, awaiting response... 200 OK\n",
            "Length: 1002883 (979K) [application/java-archive]\n",
            "Saving to: ‘postgresql-42.2.16.jar’\n",
            "\n",
            "postgresql-42.2.16. 100%[===================>] 979.38K  6.05MB/s    in 0.2s    \n",
            "\n",
            "2022-03-24 21:39:53 (6.05 MB/s) - ‘postgresql-42.2.16.jar’ saved [1002883/1002883]\n",
            "\n"
          ]
        }
      ]
    },
    {
      "cell_type": "code",
      "source": [
        "from pyspark.sql import SparkSession\n",
        "from pyspark.sql.functions import col\n",
        "spark = SparkSession.builder.appName(\"CloudETL\").config(\"spark.driver.extraClassPath\",\"/content/postgresql-42.2.16.jar\").getOrCreate()"
      ],
      "metadata": {
        "id": "jE4N_j0rM27K"
      },
      "id": "jE4N_j0rM27K",
      "execution_count": 3,
      "outputs": []
    },
    {
      "cell_type": "code",
      "source": [
        "# Read in data from S3 Buckets\n",
        "from pyspark import SparkFiles\n",
        "url_1 = \"https://bootcampfinalproject.s3.amazonaws.com/Resources/Crime_2019.csv\"\n",
        "url_2 = \"https://bootcampfinalproject.s3.amazonaws.com/Resources/Crime_2020.csv\"\n",
        "url_3 = \"https://bootcampfinalproject.s3.amazonaws.com/Resources/Sale_Prices_City.csv\"\n",
        "url_4 = \"https://bootcampfinalproject.s3.amazonaws.com/Resources/Income.csv\"\n",
        "spark.sparkContext.addFile(url_1)\n",
        "crime_2019_df = spark.read.csv(SparkFiles.get(\"Crime_2019.csv\"), sep=\",\", header=True)\n",
        "spark.sparkContext.addFile(url_2)\n",
        "crime_2020_df = spark.read.csv(SparkFiles.get(\"Crime_2020.csv\"), sep=\",\", header=True)\n",
        "spark.sparkContext.addFile(url_3)\n",
        "city_sales_df = spark.read.csv(SparkFiles.get(\"Sale_Prices_City.csv\"), sep=\",\", header=True)\n",
        "spark.sparkContext.addFile(url_4)\n",
        "income_df = spark.read.csv(SparkFiles.get(\"Income.csv\"), sep=\",\", header=True)"
      ],
      "metadata": {
        "id": "frGrWkSTNDvn"
      },
      "id": "frGrWkSTNDvn",
      "execution_count": 4,
      "outputs": []
    },
    {
      "cell_type": "code",
      "execution_count": 5,
      "id": "ca78bd4f",
      "metadata": {
        "colab": {
          "base_uri": "https://localhost:8080/"
        },
        "id": "ca78bd4f",
        "outputId": "c461e68c-fa5f-42e0-8a3d-02b7330686e4"
      },
      "outputs": [
        {
          "output_type": "stream",
          "name": "stdout",
          "text": [
            "+----------+-------+--------------+--------+---------------+------------------------+-------------------------+\n",
            "|      City|  State|City and State|CountyID|Population 2019|Violent Crime Total 2019|Property Crime Total 2019|\n",
            "+----------+-------+--------------+--------+---------------+------------------------+-------------------------+\n",
            "|    Hoover|ALABAMA|    Hoover, AL|    1073|          85670|                     114|                     1922|\n",
            "| Anchorage| ALASKA| Anchorage, AK|    2020|         287731|                    3581|                    12261|\n",
            "|    Bethel| ALASKA|    Bethel, AK|    2050|           6544|                     130|                      132|\n",
            "|   Cordova| ALASKA|   Cordova, AK|    2261|           2150|                       0|                        7|\n",
            "|     Craig| ALASKA|     Craig, AK|    2198|           1313|                       7|                       20|\n",
            "|Dillingham| ALASKA|Dillingham, AK|    2070|           2405|                      49|                       58|\n",
            "| Fairbanks| ALASKA| Fairbanks, AK|    2090|          31493|                     247|                     1353|\n",
            "|    Haines| ALASKA|    Haines, AK|    2100|           2441|                       9|                       13|\n",
            "|     Homer| ALASKA|     Homer, AK|    2122|           5913|                      12|                      146|\n",
            "|    Juneau| ALASKA|    Juneau, AK|    2110|          31810|                     289|                     1292|\n",
            "|     Kenai| ALASKA|     Kenai, AK|    2122|           7862|                      75|                      446|\n",
            "| Ketchikan| ALASKA| Ketchikan, AK|    2130|           8316|                      40|                      421|\n",
            "|    Kodiak| ALASKA|    Kodiak, AK|    2150|           5947|                      49|                      190|\n",
            "|  Kotzebue| ALASKA|  Kotzebue, AK|    2188|           3272|                      77|                       83|\n",
            "|      Nome| ALASKA|      Nome, AK|    2180|           3899|                     107|                       53|\n",
            "|North Pole| ALASKA|North Pole, AK|    2090|           2111|                      16|                       79|\n",
            "|    Palmer| ALASKA|    Palmer, AK|    2170|           7490|                      21|                      204|\n",
            "|Petersburg| ALASKA|Petersburg, AK|    2195|           3181|                      10|                       88|\n",
            "|    Seward| ALASKA|    Seward, AK|    2122|           2732|                       9|                      105|\n",
            "|     Sitka| ALASKA|     Sitka, AK|    2220|           8512|                      16|                      168|\n",
            "+----------+-------+--------------+--------+---------------+------------------------+-------------------------+\n",
            "only showing top 20 rows\n",
            "\n"
          ]
        }
      ],
      "source": [
        "crime_2019_df.show()"
      ]
    },
    {
      "cell_type": "code",
      "execution_count": 6,
      "id": "12a23da9",
      "metadata": {
        "id": "12a23da9",
        "colab": {
          "base_uri": "https://localhost:8080/"
        },
        "outputId": "789696d5-2c5a-4053-b51d-096c71329915"
      },
      "outputs": [
        {
          "output_type": "stream",
          "name": "stdout",
          "text": [
            "+--------+---------------+------------------------+-------------------------+\n",
            "|CountyID|Population 2019|Violent Crime Total 2019|Property Crime Total 2019|\n",
            "+--------+---------------+------------------------+-------------------------+\n",
            "|   10001|           3507|                       5|                      173|\n",
            "|   10003|           1830|                      11|                       52|\n",
            "|   10005|           1244|                       3|                       79|\n",
            "|    1073|          85670|                     114|                     1922|\n",
            "|   11001|         705749|                    6896|                    29965|\n",
            "|   12001|          10070|                      41|                      230|\n",
            "|   12005|          21859|                      29|                      310|\n",
            "|   12007|            722|                       4|                        5|\n",
            "|   12009|          18807|                     151|                      965|\n",
            "|   12011|          62471|                      82|                     1010|\n",
            "|   12013|            504|                       0|                        0|\n",
            "|   12015|          20458|                      18|                      278|\n",
            "|   12019|           8505|                      30|                      182|\n",
            "|   12021|          18124|                       7|                       83|\n",
            "|   12023|          12141|                     161|                      781|\n",
            "|   12027|           8274|                      55|                      106|\n",
            "|   12029|           1710|                       2|                        2|\n",
            "|   12031|          13983|                      36|                      197|\n",
            "|   12033|          52801|                     312|                     1888|\n",
            "|   12035|           2865|                      33|                      105|\n",
            "+--------+---------------+------------------------+-------------------------+\n",
            "only showing top 20 rows\n",
            "\n"
          ]
        }
      ],
      "source": [
        "dropped_crime_2019_df = crime_2019_df.drop(\"City\", \"State\",\"City and State\")\n",
        "sorted_crime_2019_df = dropped_crime_2019_df.sort(\"CountyID\")\n",
        "final_crime_2019_df = sorted_crime_2019_df.dropDuplicates([\"CountyID\"])\n",
        "final_crime_2019_df.show()"
      ]
    },
    {
      "cell_type": "code",
      "execution_count": 7,
      "id": "ba9cab88",
      "metadata": {
        "colab": {
          "base_uri": "https://localhost:8080/"
        },
        "id": "ba9cab88",
        "outputId": "257933fb-c82c-4d55-a60f-79e0a108b22f"
      },
      "outputs": [
        {
          "output_type": "execute_result",
          "data": {
            "text/plain": [
              "2153"
            ]
          },
          "metadata": {},
          "execution_count": 7
        }
      ],
      "source": [
        "final_crime_2019_df.count()"
      ]
    },
    {
      "cell_type": "code",
      "execution_count": 8,
      "id": "db2da0c4",
      "metadata": {
        "colab": {
          "base_uri": "https://localhost:8080/"
        },
        "id": "db2da0c4",
        "outputId": "3c7c5171-6ee2-48cc-e8fa-aa73cede1bf2"
      },
      "outputs": [
        {
          "output_type": "stream",
          "name": "stdout",
          "text": [
            "+------------+-------+----------------+--------+---------------+------------------------+-------------------------+\n",
            "|        City|  State|  City and State|CountyID|Population 2020|Violent Crime Total 2020|Property Crime Total 2020|\n",
            "+------------+-------+----------------+--------+---------------+------------------------+-------------------------+\n",
            "| Cedar Bluff|Alabama| Cedar Bluff, AL|    1019|           1823|                       4|                       36|\n",
            "|      Centre|Alabama|      Centre, AL|    1019|           3547|                      20|                      124|\n",
            "|   Daleville|Alabama|   Daleville, AL|    1045|           5080|                      16|                       98|\n",
            "|  Enterprise|Alabama|  Enterprise, AL|    1031|          28569|                     128|                      715|\n",
            "|     Eufaula|Alabama|     Eufaula, AL|    1005|          11568|                      95|                      456|\n",
            "|     Glencoe|Alabama|     Glencoe, AL|    1055|           5063|                      10|                       41|\n",
            "| Hokes Bluff|Alabama| Hokes Bluff, AL|    1055|           4254|                       6|                       33|\n",
            "|     Jackson|Alabama|     Jackson, AL|    1025|           4583|                      29|                       83|\n",
            "|    Kimberly|Alabama|    Kimberly, AL|    1073|           3660|                       6|                       20|\n",
            "|    Leesburg|Alabama|    Leesburg, AL|    1019|           1014|                       2|                       18|\n",
            "|    Leighton|Alabama|    Leighton, AL|    1033|            754|                      12|                       36|\n",
            "|      Marion|Alabama|      Marion, AL|    1105|           3067|                       5|                       12|\n",
            "|   Odenville|Alabama|   Odenville, AL|    1115|           3915|                      11|                       46|\n",
            "|    Piedmont|Alabama|    Piedmont, AL|    1015|           4501|                      23|                       92|\n",
            "|Rainbow City|Alabama|Rainbow City, AL|    1055|           9610|                       6|                       86|\n",
            "| Rogersville|Alabama| Rogersville, AL|    1077|           1250|                       4|                       29|\n",
            "|    Saraland|Alabama|    Saraland, AL|    1097|          14751|                      30|                      470|\n",
            "| Thomasville|Alabama| Thomasville, AL|    1025|           3799|                      18|                      112|\n",
            "|   Anchorage| Alaska|   Anchorage, AK|    2020|         286388|                    3472|                     9872|\n",
            "|      Bethel| Alaska|      Bethel, AK|    2050|           6642|                      93|                       71|\n",
            "+------------+-------+----------------+--------+---------------+------------------------+-------------------------+\n",
            "only showing top 20 rows\n",
            "\n"
          ]
        }
      ],
      "source": [
        "crime_2020_df.show()"
      ]
    },
    {
      "cell_type": "code",
      "execution_count": 9,
      "id": "1eb2ea36",
      "metadata": {
        "colab": {
          "base_uri": "https://localhost:8080/"
        },
        "id": "1eb2ea36",
        "outputId": "9ad46026-817b-4c36-a5fe-847df7e2b47a"
      },
      "outputs": [
        {
          "output_type": "stream",
          "name": "stdout",
          "text": [
            "+--------+---------------+------------------------+-------------------------+\n",
            "|CountyID|Population 2020|Violent Crime Total 2020|Property Crime Total 2020|\n",
            "+--------+---------------+------------------------+-------------------------+\n",
            "|   10001|           3562|                      11|                      209|\n",
            "|   10003|           1844|                      12|                       31|\n",
            "|   10005|           1268|                       0|                       63|\n",
            "|    1005|          11568|                      95|                      456|\n",
            "|    1015|           4501|                      23|                       92|\n",
            "|    1019|           1823|                       4|                       36|\n",
            "|    1025|           4583|                      29|                       83|\n",
            "|    1031|          28569|                     128|                      715|\n",
            "|    1033|            754|                      12|                       36|\n",
            "|    1045|           5080|                      16|                       98|\n",
            "|    1055|           5063|                      10|                       41|\n",
            "|    1073|           3660|                       6|                       20|\n",
            "|    1077|           1250|                       4|                       29|\n",
            "|    1097|          14751|                      30|                      470|\n",
            "|   11001|         712816|                    6828|                    24459|\n",
            "|    1105|           3067|                       5|                       12|\n",
            "|    1115|           3915|                      11|                       46|\n",
            "|   12001|           9998|                      40|                      251|\n",
            "|   12005|          20733|                      22|                      193|\n",
            "|   12007|            725|                       2|                        7|\n",
            "+--------+---------------+------------------------+-------------------------+\n",
            "only showing top 20 rows\n",
            "\n"
          ]
        }
      ],
      "source": [
        "dropped_crime_2020_df = crime_2020_df.drop(\"City\", \"State\",\"City and State\")\n",
        "sorted_crime_2020_df = dropped_crime_2020_df.sort(\"CountyID\")\n",
        "final_crime_2020_df = sorted_crime_2020_df.dropDuplicates([\"CountyID\"])\n",
        "final_crime_2020_df.show()"
      ]
    },
    {
      "cell_type": "code",
      "execution_count": 10,
      "id": "cb621119",
      "metadata": {
        "colab": {
          "base_uri": "https://localhost:8080/"
        },
        "id": "cb621119",
        "outputId": "c008d0b4-832c-43ae-f447-5e8b05497c6a"
      },
      "outputs": [
        {
          "output_type": "execute_result",
          "data": {
            "text/plain": [
              "2113"
            ]
          },
          "metadata": {},
          "execution_count": 10
        }
      ],
      "source": [
        "final_crime_2020_df.count()"
      ]
    },
    {
      "cell_type": "code",
      "execution_count": 11,
      "id": "c4c73544",
      "metadata": {
        "colab": {
          "base_uri": "https://localhost:8080/"
        },
        "id": "c4c73544",
        "outputId": "514b09de-4479-4bd1-d68f-5436b63abfa8"
      },
      "outputs": [
        {
          "output_type": "stream",
          "name": "stdout",
          "text": [
            "+--------------------+--------------+--------+---------------------+---------------------+\n",
            "|          RegionName|     StateName|CountyID|AverageSalesPrice2019|AverageSalesPrice2020|\n",
            "+--------------------+--------------+--------+---------------------+---------------------+\n",
            "|      Youngstown, OH|          Ohio|   39099|                29625|                31300|\n",
            "|          Harvey, IL|      Illinois|   17031|                35183|                36000|\n",
            "|         Trenton, NJ|    New Jersey|   34021|                51833|                56450|\n",
            "|   Maple Heights, OH|          Ohio|   39035|                58692|                70567|\n",
            "|        Bay City, MI|      Michigan|   26017|                59150|                64300|\n",
            "|Garfield Heights, OH|          Ohio|   39035|                62817|                67467|\n",
            "|       Cleveland, OH|          Ohio|   39035|                62925|                67350|\n",
            "|    Granite City, IL|      Illinois|   17119|                65667|                65400|\n",
            "|           Akron, OH|          Ohio|   39153|                71367|                72567|\n",
            "|          Euclid, OH|          Ohio|   39035|                72625|                77650|\n",
            "|     Forest Park, GA|       Georgia|   13063|                73108|                96450|\n",
            "|        Del City, OK|      Oklahoma|   40109|                73258|                85600|\n",
            "|         Decatur, IL|      Illinois|   17115|                73833|                86450|\n",
            "|       Galesburg, IL|      Illinois|   17095|                75767|                68850|\n",
            "|      Pine Bluff, AR|      Arkansas|    5069|                76300|                76967|\n",
            "|          Toledo, OH|          Ohio|   39095|                76400|                82350|\n",
            "|         Ottumwa, IA|          Iowa|   19179|                77258|                68800|\n",
            "|          Duncan, OK|      Oklahoma|   40137|                77675|                84600|\n",
            "|         Kinston, NC|North Carolina|   37107|                77958|                70600|\n",
            "|         Altoona, PA|  Pennsylvania|   42013|                77983|                74000|\n",
            "+--------------------+--------------+--------+---------------------+---------------------+\n",
            "only showing top 20 rows\n",
            "\n"
          ]
        }
      ],
      "source": [
        "city_sales_df.show()"
      ]
    },
    {
      "cell_type": "code",
      "source": [
        "city_sales_df.withColumn(\"CountyID\",city_sales_df.CountyID.cast('int'))"
      ],
      "metadata": {
        "colab": {
          "base_uri": "https://localhost:8080/"
        },
        "id": "uMg4lIT9zFWK",
        "outputId": "d8fefbf0-8d0b-4f82-8bd8-830372250821"
      },
      "id": "uMg4lIT9zFWK",
      "execution_count": 12,
      "outputs": [
        {
          "output_type": "execute_result",
          "data": {
            "text/plain": [
              "DataFrame[RegionName: string, StateName: string, CountyID: int, AverageSalesPrice2019: string, AverageSalesPrice2020: string]"
            ]
          },
          "metadata": {},
          "execution_count": 12
        }
      ]
    },
    {
      "cell_type": "code",
      "source": [
        "city_sales_df.show()"
      ],
      "metadata": {
        "colab": {
          "base_uri": "https://localhost:8080/"
        },
        "id": "0qJKbP2vzPqv",
        "outputId": "2afd99e6-0a92-427f-c540-61fa0d8e60b8"
      },
      "id": "0qJKbP2vzPqv",
      "execution_count": 13,
      "outputs": [
        {
          "output_type": "stream",
          "name": "stdout",
          "text": [
            "+--------------------+--------------+--------+---------------------+---------------------+\n",
            "|          RegionName|     StateName|CountyID|AverageSalesPrice2019|AverageSalesPrice2020|\n",
            "+--------------------+--------------+--------+---------------------+---------------------+\n",
            "|      Youngstown, OH|          Ohio|   39099|                29625|                31300|\n",
            "|          Harvey, IL|      Illinois|   17031|                35183|                36000|\n",
            "|         Trenton, NJ|    New Jersey|   34021|                51833|                56450|\n",
            "|   Maple Heights, OH|          Ohio|   39035|                58692|                70567|\n",
            "|        Bay City, MI|      Michigan|   26017|                59150|                64300|\n",
            "|Garfield Heights, OH|          Ohio|   39035|                62817|                67467|\n",
            "|       Cleveland, OH|          Ohio|   39035|                62925|                67350|\n",
            "|    Granite City, IL|      Illinois|   17119|                65667|                65400|\n",
            "|           Akron, OH|          Ohio|   39153|                71367|                72567|\n",
            "|          Euclid, OH|          Ohio|   39035|                72625|                77650|\n",
            "|     Forest Park, GA|       Georgia|   13063|                73108|                96450|\n",
            "|        Del City, OK|      Oklahoma|   40109|                73258|                85600|\n",
            "|         Decatur, IL|      Illinois|   17115|                73833|                86450|\n",
            "|       Galesburg, IL|      Illinois|   17095|                75767|                68850|\n",
            "|      Pine Bluff, AR|      Arkansas|    5069|                76300|                76967|\n",
            "|          Toledo, OH|          Ohio|   39095|                76400|                82350|\n",
            "|         Ottumwa, IA|          Iowa|   19179|                77258|                68800|\n",
            "|          Duncan, OK|      Oklahoma|   40137|                77675|                84600|\n",
            "|         Kinston, NC|North Carolina|   37107|                77958|                70600|\n",
            "|         Altoona, PA|  Pennsylvania|   42013|                77983|                74000|\n",
            "+--------------------+--------------+--------+---------------------+---------------------+\n",
            "only showing top 20 rows\n",
            "\n"
          ]
        }
      ]
    },
    {
      "cell_type": "code",
      "execution_count": 14,
      "id": "659b4f52",
      "metadata": {
        "colab": {
          "base_uri": "https://localhost:8080/"
        },
        "id": "659b4f52",
        "outputId": "789d4fbd-617e-4a22-ce26-7453f14accc7"
      },
      "outputs": [
        {
          "output_type": "stream",
          "name": "stdout",
          "text": [
            "+--------+---------------------+---------------------+\n",
            "|CountyID|AverageSalesPrice2019|AverageSalesPrice2020|\n",
            "+--------+---------------------+---------------------+\n",
            "|   10001|               180117|               189500|\n",
            "|   10003|               177100|               187950|\n",
            "|   10005|               151633|               167100|\n",
            "|    1003|               172500|               173833|\n",
            "|    1015|               124467|               132733|\n",
            "|    1021|               137167|               149933|\n",
            "|    1031|               146258|               162033|\n",
            "|    1043|               155033|               148633|\n",
            "|    1051|               131142|               149367|\n",
            "|    1069|               146817|               148333|\n",
            "|    1073|                94425|               100833|\n",
            "|    1077|               118333|               118067|\n",
            "|    1083|               165883|               172033|\n",
            "|    1089|               158750|               199533|\n",
            "|    1095|               110550|               139900|\n",
            "|    1097|               122017|               130933|\n",
            "|   11001|               547475|               580633|\n",
            "|    1101|               101533|               119650|\n",
            "|    1103|               121883|               126567|\n",
            "|    1113|               150650|               163933|\n",
            "+--------+---------------------+---------------------+\n",
            "only showing top 20 rows\n",
            "\n"
          ]
        }
      ],
      "source": [
        "dropped_city_sales_df = city_sales_df.drop(\"RegionName\", \"StateName\")\n",
        "final_city_sales_df = dropped_city_sales_df.dropDuplicates([\"CountyID\"])\n",
        "final_city_sales_df.show()"
      ]
    },
    {
      "cell_type": "code",
      "execution_count": 15,
      "id": "3afb5d31",
      "metadata": {
        "colab": {
          "base_uri": "https://localhost:8080/"
        },
        "id": "3afb5d31",
        "outputId": "3741ee5c-ff39-4d0f-f892-73eb4e4d0f08"
      },
      "outputs": [
        {
          "output_type": "execute_result",
          "data": {
            "text/plain": [
              "994"
            ]
          },
          "metadata": {},
          "execution_count": 15
        }
      ],
      "source": [
        "final_city_sales_df.count()"
      ]
    },
    {
      "cell_type": "code",
      "execution_count": 16,
      "id": "4817ae1e",
      "metadata": {
        "id": "4817ae1e",
        "outputId": "92685523-7e40-4b9d-fdaf-d00a4ffb5b0d",
        "colab": {
          "base_uri": "https://localhost:8080/"
        }
      },
      "outputs": [
        {
          "output_type": "stream",
          "name": "stdout",
          "text": [
            "+---------+-------+------------------+--------+-----------+-----------+\n",
            "|   County|  State|     County, State|CountyID|Income_2019|Income_2020|\n",
            "+---------+-------+------------------+--------+-----------+-----------+\n",
            "|  Autauga|Alabama|  Autauga, Alabama|    1001|      44368|      46814|\n",
            "|  Baldwin|Alabama|  Baldwin, Alabama|    1003|      48270|      50953|\n",
            "|  Barbour|Alabama|  Barbour, Alabama|    1005|      35572|      37850|\n",
            "|     Bibb|Alabama|     Bibb, Alabama|    1007|      31540|      34300|\n",
            "|   Blount|Alabama|   Blount, Alabama|    1009|      36969|      38808|\n",
            "|  Bullock|Alabama|  Bullock, Alabama|    1011|      28136|      31944|\n",
            "|   Butler|Alabama|   Butler, Alabama|    1013|      38073|      39988|\n",
            "|  Calhoun|Alabama|  Calhoun, Alabama|    1015|      37708|      40195|\n",
            "| Chambers|Alabama| Chambers, Alabama|    1017|      36110|      38508|\n",
            "| Cherokee|Alabama| Cherokee, Alabama|    1019|      36381|      37869|\n",
            "|  Chilton|Alabama|  Chilton, Alabama|    1021|      36471|      38778|\n",
            "|  Choctaw|Alabama|  Choctaw, Alabama|    1023|      39097|      42231|\n",
            "|   Clarke|Alabama|   Clarke, Alabama|    1025|      37061|      40822|\n",
            "|     Clay|Alabama|     Clay, Alabama|    1027|      34185|      37179|\n",
            "| Cleburne|Alabama| Cleburne, Alabama|    1029|      35905|      37734|\n",
            "|   Coffee|Alabama|   Coffee, Alabama|    1031|      43319|      45262|\n",
            "|  Colbert|Alabama|  Colbert, Alabama|    1033|      38860|      41941|\n",
            "|  Conecuh|Alabama|  Conecuh, Alabama|    1035|      33596|      36908|\n",
            "|    Coosa|Alabama|    Coosa, Alabama|    1037|      32548|      34683|\n",
            "|Covington|Alabama|Covington, Alabama|    1039|      35927|      37930|\n",
            "+---------+-------+------------------+--------+-----------+-----------+\n",
            "only showing top 20 rows\n",
            "\n"
          ]
        }
      ],
      "source": [
        "income_df.show()"
      ]
    },
    {
      "cell_type": "code",
      "execution_count": 17,
      "id": "3abdfceb",
      "metadata": {
        "colab": {
          "base_uri": "https://localhost:8080/"
        },
        "id": "3abdfceb",
        "outputId": "ab2a56b5-f67a-474d-cafd-2452b2b8329f"
      },
      "outputs": [
        {
          "output_type": "stream",
          "name": "stdout",
          "text": [
            "+--------+-----------+-----------+\n",
            "|CountyID|Income_2019|Income_2020|\n",
            "+--------+-----------+-----------+\n",
            "|   10001|      43761|      46600|\n",
            "|   10003|      57404|      59955|\n",
            "|   10005|      52935|      54352|\n",
            "|    1001|      44368|      46814|\n",
            "|    1003|      48270|      50953|\n",
            "|    1005|      35572|      37850|\n",
            "|    1007|      31540|      34300|\n",
            "|    1009|      36969|      38808|\n",
            "|    1011|      28136|      31944|\n",
            "|    1013|      38073|      39988|\n",
            "|    1015|      37708|      40195|\n",
            "|    1017|      36110|      38508|\n",
            "|    1019|      36381|      37869|\n",
            "|    1021|      36471|      38778|\n",
            "|    1023|      39097|      42231|\n",
            "|    1025|      37061|      40822|\n",
            "|    1027|      34185|      37179|\n",
            "|    1029|      35905|      37734|\n",
            "|    1031|      43319|      45262|\n",
            "|    1033|      38860|      41941|\n",
            "+--------+-----------+-----------+\n",
            "only showing top 20 rows\n",
            "\n"
          ]
        }
      ],
      "source": [
        "dropped_income_df = income_df.drop(\"County\", \"State\",\"County, State\")\n",
        "final_income_df = dropped_income_df.dropDuplicates([\"CountyID\"])\n",
        "final_income_df.show()"
      ]
    },
    {
      "cell_type": "code",
      "execution_count": 18,
      "id": "eaf76718",
      "metadata": {
        "id": "eaf76718",
        "outputId": "67541fe1-eb01-4afb-e88e-624d0bb5154f",
        "colab": {
          "base_uri": "https://localhost:8080/"
        }
      },
      "outputs": [
        {
          "output_type": "execute_result",
          "data": {
            "text/plain": [
              "3038"
            ]
          },
          "metadata": {},
          "execution_count": 18
        }
      ],
      "source": [
        "final_income_df.count()"
      ]
    },
    {
      "cell_type": "code",
      "execution_count": 19,
      "id": "7b737594",
      "metadata": {
        "id": "7b737594",
        "outputId": "3987476c-a368-4975-e761-0807fb539bf6",
        "colab": {
          "base_uri": "https://localhost:8080/"
        }
      },
      "outputs": [
        {
          "output_type": "stream",
          "name": "stdout",
          "text": [
            "+--------+---------------------+---------------------+---------------+------------------------+-------------------------+\n",
            "|CountyID|AverageSalesPrice2019|AverageSalesPrice2020|Population 2019|Violent Crime Total 2019|Property Crime Total 2019|\n",
            "+--------+---------------------+---------------------+---------------+------------------------+-------------------------+\n",
            "|   10001|               180117|               189500|           3507|                       5|                      173|\n",
            "|   10003|               177100|               187950|           1830|                      11|                       52|\n",
            "|   10005|               151633|               167100|           1244|                       3|                       79|\n",
            "|    1003|               172500|               173833|           null|                    null|                     null|\n",
            "|    1015|               124467|               132733|           null|                    null|                     null|\n",
            "|    1021|               137167|               149933|           null|                    null|                     null|\n",
            "|    1031|               146258|               162033|           null|                    null|                     null|\n",
            "|    1043|               155033|               148633|           null|                    null|                     null|\n",
            "|    1051|               131142|               149367|           null|                    null|                     null|\n",
            "|    1069|               146817|               148333|           null|                    null|                     null|\n",
            "|    1073|                94425|               100833|          85670|                     114|                     1922|\n",
            "|    1077|               118333|               118067|           null|                    null|                     null|\n",
            "|    1083|               165883|               172033|           null|                    null|                     null|\n",
            "|    1089|               158750|               199533|           null|                    null|                     null|\n",
            "|    1095|               110550|               139900|           null|                    null|                     null|\n",
            "|    1097|               122017|               130933|           null|                    null|                     null|\n",
            "|   11001|               547475|               580633|         705749|                    6896|                    29965|\n",
            "|    1101|               101533|               119650|           null|                    null|                     null|\n",
            "|    1103|               121883|               126567|           null|                    null|                     null|\n",
            "|    1113|               150650|               163933|           null|                    null|                     null|\n",
            "+--------+---------------------+---------------------+---------------+------------------------+-------------------------+\n",
            "only showing top 20 rows\n",
            "\n"
          ]
        }
      ],
      "source": [
        "# Combine the data into a single dataset.\n",
        "partial_1_df = final_city_sales_df.join(final_crime_2019_df, on=\"CountyID\", how=\"left\")\n",
        "partial_1_df.show()"
      ]
    },
    {
      "cell_type": "code",
      "execution_count": 20,
      "id": "2060f255",
      "metadata": {
        "id": "2060f255",
        "outputId": "7df143e5-f745-4015-dd81-77928afca710",
        "colab": {
          "base_uri": "https://localhost:8080/"
        }
      },
      "outputs": [
        {
          "output_type": "stream",
          "name": "stdout",
          "text": [
            "+--------+---------------------+---------------------+---------------+------------------------+-------------------------+---------------+------------------------+-------------------------+\n",
            "|CountyID|AverageSalesPrice2019|AverageSalesPrice2020|Population 2019|Violent Crime Total 2019|Property Crime Total 2019|Population 2020|Violent Crime Total 2020|Property Crime Total 2020|\n",
            "+--------+---------------------+---------------------+---------------+------------------------+-------------------------+---------------+------------------------+-------------------------+\n",
            "|   10001|               180117|               189500|           3507|                       5|                      173|           3562|                      11|                      209|\n",
            "|   10003|               177100|               187950|           1830|                      11|                       52|           1844|                      12|                       31|\n",
            "|   10005|               151633|               167100|           1244|                       3|                       79|           1268|                       0|                       63|\n",
            "|    1003|               172500|               173833|           null|                    null|                     null|           null|                    null|                     null|\n",
            "|    1015|               124467|               132733|           null|                    null|                     null|           4501|                      23|                       92|\n",
            "|    1021|               137167|               149933|           null|                    null|                     null|           null|                    null|                     null|\n",
            "|    1031|               146258|               162033|           null|                    null|                     null|          28569|                     128|                      715|\n",
            "|    1043|               155033|               148633|           null|                    null|                     null|           null|                    null|                     null|\n",
            "|    1051|               131142|               149367|           null|                    null|                     null|           null|                    null|                     null|\n",
            "|    1069|               146817|               148333|           null|                    null|                     null|           null|                    null|                     null|\n",
            "|    1073|                94425|               100833|          85670|                     114|                     1922|           3660|                       6|                       20|\n",
            "|    1077|               118333|               118067|           null|                    null|                     null|           1250|                       4|                       29|\n",
            "|    1083|               165883|               172033|           null|                    null|                     null|           null|                    null|                     null|\n",
            "|    1089|               158750|               199533|           null|                    null|                     null|           null|                    null|                     null|\n",
            "|    1095|               110550|               139900|           null|                    null|                     null|           null|                    null|                     null|\n",
            "|    1097|               122017|               130933|           null|                    null|                     null|          14751|                      30|                      470|\n",
            "|   11001|               547475|               580633|         705749|                    6896|                    29965|         712816|                    6828|                    24459|\n",
            "|    1101|               101533|               119650|           null|                    null|                     null|           null|                    null|                     null|\n",
            "|    1103|               121883|               126567|           null|                    null|                     null|           null|                    null|                     null|\n",
            "|    1113|               150650|               163933|           null|                    null|                     null|           null|                    null|                     null|\n",
            "+--------+---------------------+---------------------+---------------+------------------------+-------------------------+---------------+------------------------+-------------------------+\n",
            "only showing top 20 rows\n",
            "\n"
          ]
        }
      ],
      "source": [
        "partial_2_df = partial_1_df.join(final_crime_2020_df, how=\"left\", on=\"CountyID\")\n",
        "partial_2_df.show()"
      ]
    },
    {
      "cell_type": "code",
      "execution_count": 21,
      "id": "b8d5c34c",
      "metadata": {
        "id": "b8d5c34c",
        "outputId": "00cb1c87-44ff-47cd-a1a7-aaeddd409e04",
        "colab": {
          "base_uri": "https://localhost:8080/"
        }
      },
      "outputs": [
        {
          "output_type": "stream",
          "name": "stdout",
          "text": [
            "+--------+---------------------+---------------------+---------------+------------------------+-------------------------+---------------+------------------------+-------------------------+-----------+-----------+\n",
            "|CountyID|AverageSalesPrice2019|AverageSalesPrice2020|Population 2019|Violent Crime Total 2019|Property Crime Total 2019|Population 2020|Violent Crime Total 2020|Property Crime Total 2020|Income_2019|Income_2020|\n",
            "+--------+---------------------+---------------------+---------------+------------------------+-------------------------+---------------+------------------------+-------------------------+-----------+-----------+\n",
            "|   10001|               180117|               189500|           3507|                       5|                      173|           3562|                      11|                      209|      43761|      46600|\n",
            "|   10003|               177100|               187950|           1830|                      11|                       52|           1844|                      12|                       31|      57404|      59955|\n",
            "|   10005|               151633|               167100|           1244|                       3|                       79|           1268|                       0|                       63|      52935|      54352|\n",
            "|    1003|               172500|               173833|           null|                    null|                     null|           null|                    null|                     null|      48270|      50953|\n",
            "|    1015|               124467|               132733|           null|                    null|                     null|           4501|                      23|                       92|      37708|      40195|\n",
            "|    1021|               137167|               149933|           null|                    null|                     null|           null|                    null|                     null|      36471|      38778|\n",
            "|    1031|               146258|               162033|           null|                    null|                     null|          28569|                     128|                      715|      43319|      45262|\n",
            "|    1043|               155033|               148633|           null|                    null|                     null|           null|                    null|                     null|      41211|      42659|\n",
            "|    1051|               131142|               149367|           null|                    null|                     null|           null|                    null|                     null|      44561|      47270|\n",
            "|    1069|               146817|               148333|           null|                    null|                     null|           null|                    null|                     null|      44300|      47072|\n",
            "|    1073|                94425|               100833|          85670|                     114|                     1922|           3660|                       6|                       20|      56599|      58424|\n",
            "|    1077|               118333|               118067|           null|                    null|                     null|           1250|                       4|                       29|      38135|      40729|\n",
            "|    1083|               165883|               172033|           null|                    null|                     null|           null|                    null|                     null|      44841|      47695|\n",
            "|    1089|               158750|               199533|           null|                    null|                     null|           null|                    null|                     null|      54169|      57128|\n",
            "|    1095|               110550|               139900|           null|                    null|                     null|           null|                    null|                     null|      37913|      40045|\n",
            "|    1097|               122017|               130933|           null|                    null|                     null|          14751|                      30|                      470|      40003|      42823|\n",
            "|   11001|               547475|               580633|         705749|                    6896|                    29965|         712816|                    6828|                    24459|       null|       null|\n",
            "|    1101|               101533|               119650|           null|                    null|                     null|           null|                    null|                     null|      44597|      47776|\n",
            "|    1103|               121883|               126567|           null|                    null|                     null|           null|                    null|                     null|      41895|      44679|\n",
            "|    1113|               150650|               163933|           null|                    null|                     null|           null|                    null|                     null|      33796|      36526|\n",
            "+--------+---------------------+---------------------+---------------+------------------------+-------------------------+---------------+------------------------+-------------------------+-----------+-----------+\n",
            "only showing top 20 rows\n",
            "\n"
          ]
        }
      ],
      "source": [
        "complete_df = partial_2_df.join(final_income_df, how=\"left\", on=\"CountyID\")\n",
        "complete_df.show()"
      ]
    },
    {
      "cell_type": "code",
      "source": [
        "complete_df.count()"
      ],
      "metadata": {
        "colab": {
          "base_uri": "https://localhost:8080/"
        },
        "id": "_omLWLB50Ya2",
        "outputId": "70ea1d1f-193d-4c25-a9bd-99239a20f4fb"
      },
      "id": "_omLWLB50Ya2",
      "execution_count": 22,
      "outputs": [
        {
          "output_type": "execute_result",
          "data": {
            "text/plain": [
              "994"
            ]
          },
          "metadata": {},
          "execution_count": 22
        }
      ]
    },
    {
      "cell_type": "code",
      "source": [
        "# Print our schema\n",
        "complete_df.printSchema()"
      ],
      "metadata": {
        "colab": {
          "base_uri": "https://localhost:8080/"
        },
        "id": "iqMK3WlipHOq",
        "outputId": "d2cef3e1-967c-4a4c-d027-e46e54935c86"
      },
      "id": "iqMK3WlipHOq",
      "execution_count": 23,
      "outputs": [
        {
          "output_type": "stream",
          "name": "stdout",
          "text": [
            "root\n",
            " |-- CountyID: string (nullable = true)\n",
            " |-- AverageSalesPrice2019: string (nullable = true)\n",
            " |-- AverageSalesPrice2020: string (nullable = true)\n",
            " |-- Population 2019: string (nullable = true)\n",
            " |-- Violent Crime Total 2019: string (nullable = true)\n",
            " |-- Property Crime Total 2019: string (nullable = true)\n",
            " |-- Population 2020: string (nullable = true)\n",
            " |-- Violent Crime Total 2020: string (nullable = true)\n",
            " |-- Property Crime Total 2020: string (nullable = true)\n",
            " |-- Income_2019: string (nullable = true)\n",
            " |-- Income_2020: string (nullable = true)\n",
            "\n"
          ]
        }
      ]
    },
    {
      "cell_type": "code",
      "source": [
        "complete_df = complete_df.dropna(subset = ['Population 2019', 'Violent Crime Total 2019', 'Property Crime Total 2019','Population 2020', 'Violent Crime Total 2020', 'Property Crime Total 2020', 'Income_2019', 'Income_2020'])"
      ],
      "metadata": {
        "id": "WT9m1H7e1Gog"
      },
      "id": "WT9m1H7e1Gog",
      "execution_count": 24,
      "outputs": []
    },
    {
      "cell_type": "code",
      "source": [
        "complete_df.show()"
      ],
      "metadata": {
        "colab": {
          "base_uri": "https://localhost:8080/"
        },
        "id": "wSgm7HiQ1KGf",
        "outputId": "8544e826-3d77-4a4c-8a5a-2d98aa602913"
      },
      "id": "wSgm7HiQ1KGf",
      "execution_count": 25,
      "outputs": [
        {
          "output_type": "stream",
          "name": "stdout",
          "text": [
            "+--------+---------------------+---------------------+---------------+------------------------+-------------------------+---------------+------------------------+-------------------------+-----------+-----------+\n",
            "|CountyID|AverageSalesPrice2019|AverageSalesPrice2020|Population 2019|Violent Crime Total 2019|Property Crime Total 2019|Population 2020|Violent Crime Total 2020|Property Crime Total 2020|Income_2019|Income_2020|\n",
            "+--------+---------------------+---------------------+---------------+------------------------+-------------------------+---------------+------------------------+-------------------------+-----------+-----------+\n",
            "|   10001|               180117|               189500|           3507|                       5|                      173|           3562|                      11|                      209|      43761|      46600|\n",
            "|   10003|               177100|               187950|           1830|                      11|                       52|           1844|                      12|                       31|      57404|      59955|\n",
            "|   10005|               151633|               167100|           1244|                       3|                       79|           1268|                       0|                       63|      52935|      54352|\n",
            "|    1073|                94425|               100833|          85670|                     114|                     1922|           3660|                       6|                       20|      56599|      58424|\n",
            "|   12001|               183158|               234600|          10070|                      41|                      230|           9998|                      40|                      251|      46636|      49556|\n",
            "|   12005|               148733|               188133|          21859|                      29|                      310|          20733|                      22|                      193|      46818|      50696|\n",
            "|   12009|               153658|               171150|          18807|                     151|                      965|          18769|                     214|                     1101|      48539|      51507|\n",
            "|   12011|               100842|               110500|          62471|                      82|                     1010|          62220|                      88|                      662|      52864|      55908|\n",
            "|   12015|               178658|               191650|          20458|                      18|                      278|          20766|                      14|                      272|      43549|      45606|\n",
            "|   12019|               163667|               182150|           8505|                      30|                      182|           8783|                      40|                      145|      44818|      47407|\n",
            "|   12021|               318133|               329000|          18124|                       7|                       83|          18121|                      15|                      103|     103205|     103865|\n",
            "|   12023|               144050|               174350|          12141|                     161|                      781|          12403|                     193|                      669|      35600|      38243|\n",
            "|   12027|               128350|               157133|           8274|                      55|                      106|           8392|                      49|                       97|      25717|      27863|\n",
            "|   12031|               162458|               189350|          13983|                      36|                      197|          14012|                      52|                      250|      48096|      51131|\n",
            "|   12033|               156000|               172633|          52801|                     312|                     1888|          53083|                     327|                     1543|      44377|      47381|\n",
            "|   12035|               221492|               227750|           2865|                      33|                      105|           2999|                      30|                       85|      48754|      50599|\n",
            "|   12051|               132967|               148267|           8098|                      26|                      211|           8125|                      34|                      165|      31921|      35546|\n",
            "|   12053|               163292|               176300|           8373|                      50|                      332|           8663|                      41|                      236|      38612|      41385|\n",
            "|   12055|               112025|               138800|           2459|                      14|                      105|           2498|                      10|                       68|      34433|      37158|\n",
            "|   12057|               150517|               157500|          39725|                     162|                     1073|          40330|                     199|                      906|      48586|      51848|\n",
            "+--------+---------------------+---------------------+---------------+------------------------+-------------------------+---------------+------------------------+-------------------------+-----------+-----------+\n",
            "only showing top 20 rows\n",
            "\n"
          ]
        }
      ]
    },
    {
      "cell_type": "code",
      "source": [
        "complete_df.count()"
      ],
      "metadata": {
        "colab": {
          "base_uri": "https://localhost:8080/"
        },
        "id": "2tuNpPbU1MqG",
        "outputId": "1e32eccd-97db-490a-e35b-58f706c2749e"
      },
      "id": "2tuNpPbU1MqG",
      "execution_count": 26,
      "outputs": [
        {
          "output_type": "execute_result",
          "data": {
            "text/plain": [
              "764"
            ]
          },
          "metadata": {},
          "execution_count": 26
        }
      ]
    },
    {
      "cell_type": "code",
      "source": [
        "complete_df.printSchema()"
      ],
      "metadata": {
        "colab": {
          "base_uri": "https://localhost:8080/"
        },
        "id": "c7n7y3bg1NG7",
        "outputId": "52aedd9b-9963-4eff-fc79-eda561b7663b"
      },
      "id": "c7n7y3bg1NG7",
      "execution_count": 27,
      "outputs": [
        {
          "output_type": "stream",
          "name": "stdout",
          "text": [
            "root\n",
            " |-- CountyID: string (nullable = true)\n",
            " |-- AverageSalesPrice2019: string (nullable = true)\n",
            " |-- AverageSalesPrice2020: string (nullable = true)\n",
            " |-- Population 2019: string (nullable = true)\n",
            " |-- Violent Crime Total 2019: string (nullable = true)\n",
            " |-- Property Crime Total 2019: string (nullable = true)\n",
            " |-- Population 2020: string (nullable = true)\n",
            " |-- Violent Crime Total 2020: string (nullable = true)\n",
            " |-- Property Crime Total 2020: string (nullable = true)\n",
            " |-- Income_2019: string (nullable = true)\n",
            " |-- Income_2020: string (nullable = true)\n",
            "\n"
          ]
        }
      ]
    },
    {
      "cell_type": "code",
      "source": [
        "# Import struct fields that we can use\n",
        "from pyspark.sql.types import StructField, StringType, IntegerType, StructType"
      ],
      "metadata": {
        "id": "qK-1_KcypTmf"
      },
      "id": "qK-1_KcypTmf",
      "execution_count": 28,
      "outputs": []
    },
    {
      "cell_type": "code",
      "source": [
        "# Store environmental variable\n",
        "from getpass import getpass\n",
        "password = getpass('Enter database password')\n",
        "# Configure settings for RDS\n",
        "mode = \"append\"\n",
        "jdbc_url=\"jdbc:postgresql://database-1.cx6o5jgyfq1i.us-east-1.rds.amazonaws.com:5432/database-1\"\n",
        "config = {\"user\":\"postgres\",\n",
        "          \"password\": \"bootcamp\",\n",
        "          \"driver\":\"org.postgresql.Driver\"}"
      ],
      "metadata": {
        "colab": {
          "base_uri": "https://localhost:8080/"
        },
        "id": "II2hfpRzpi-3",
        "outputId": "1a8f3956-df98-4460-cdf6-a0180a368ce5"
      },
      "id": "II2hfpRzpi-3",
      "execution_count": 31,
      "outputs": [
        {
          "name": "stdout",
          "output_type": "stream",
          "text": [
            "Enter database password··········\n"
          ]
        }
      ]
    },
    {
      "cell_type": "code",
      "source": [
        "# Write DataFrame to active_user table in RDS\n",
        "complete_df.write.jdbc(url=jdbc_url, table='complete_df', mode=mode, properties=config)"
      ],
      "metadata": {
        "id": "FTa94_UIr1Wr",
        "colab": {
          "base_uri": "https://localhost:8080/",
          "height": 1000
        },
        "outputId": "eaaaa981-a0fc-46fc-b3da-f683bac8ae04"
      },
      "id": "FTa94_UIr1Wr",
      "execution_count": 32,
      "outputs": [
        {
          "output_type": "error",
          "ename": "Py4JJavaError",
          "evalue": "ignored",
          "traceback": [
            "\u001b[0;31m---------------------------------------------------------------------------\u001b[0m",
            "\u001b[0;31mPy4JJavaError\u001b[0m                             Traceback (most recent call last)",
            "\u001b[0;32m<ipython-input-32-0401b73095af>\u001b[0m in \u001b[0;36m<module>\u001b[0;34m()\u001b[0m\n\u001b[1;32m      1\u001b[0m \u001b[0;31m# Write DataFrame to active_user table in RDS\u001b[0m\u001b[0;34m\u001b[0m\u001b[0;34m\u001b[0m\u001b[0;34m\u001b[0m\u001b[0m\n\u001b[0;32m----> 2\u001b[0;31m \u001b[0mcomplete_df\u001b[0m\u001b[0;34m.\u001b[0m\u001b[0mwrite\u001b[0m\u001b[0;34m.\u001b[0m\u001b[0mjdbc\u001b[0m\u001b[0;34m(\u001b[0m\u001b[0murl\u001b[0m\u001b[0;34m=\u001b[0m\u001b[0mjdbc_url\u001b[0m\u001b[0;34m,\u001b[0m \u001b[0mtable\u001b[0m\u001b[0;34m=\u001b[0m\u001b[0;34m'complete_df'\u001b[0m\u001b[0;34m,\u001b[0m \u001b[0mmode\u001b[0m\u001b[0;34m=\u001b[0m\u001b[0mmode\u001b[0m\u001b[0;34m,\u001b[0m \u001b[0mproperties\u001b[0m\u001b[0;34m=\u001b[0m\u001b[0mconfig\u001b[0m\u001b[0;34m)\u001b[0m\u001b[0;34m\u001b[0m\u001b[0;34m\u001b[0m\u001b[0m\n\u001b[0m",
            "\u001b[0;32m/content/spark-3.2.1-bin-hadoop2.7/python/pyspark/sql/readwriter.py\u001b[0m in \u001b[0;36mjdbc\u001b[0;34m(self, url, table, mode, properties)\u001b[0m\n\u001b[1;32m   1036\u001b[0m         \u001b[0;32mfor\u001b[0m \u001b[0mk\u001b[0m \u001b[0;32min\u001b[0m \u001b[0mproperties\u001b[0m\u001b[0;34m:\u001b[0m\u001b[0;34m\u001b[0m\u001b[0;34m\u001b[0m\u001b[0m\n\u001b[1;32m   1037\u001b[0m             \u001b[0mjprop\u001b[0m\u001b[0;34m.\u001b[0m\u001b[0msetProperty\u001b[0m\u001b[0;34m(\u001b[0m\u001b[0mk\u001b[0m\u001b[0;34m,\u001b[0m \u001b[0mproperties\u001b[0m\u001b[0;34m[\u001b[0m\u001b[0mk\u001b[0m\u001b[0;34m]\u001b[0m\u001b[0;34m)\u001b[0m\u001b[0;34m\u001b[0m\u001b[0;34m\u001b[0m\u001b[0m\n\u001b[0;32m-> 1038\u001b[0;31m         \u001b[0mself\u001b[0m\u001b[0;34m.\u001b[0m\u001b[0mmode\u001b[0m\u001b[0;34m(\u001b[0m\u001b[0mmode\u001b[0m\u001b[0;34m)\u001b[0m\u001b[0;34m.\u001b[0m\u001b[0m_jwrite\u001b[0m\u001b[0;34m.\u001b[0m\u001b[0mjdbc\u001b[0m\u001b[0;34m(\u001b[0m\u001b[0murl\u001b[0m\u001b[0;34m,\u001b[0m \u001b[0mtable\u001b[0m\u001b[0;34m,\u001b[0m \u001b[0mjprop\u001b[0m\u001b[0;34m)\u001b[0m\u001b[0;34m\u001b[0m\u001b[0;34m\u001b[0m\u001b[0m\n\u001b[0m\u001b[1;32m   1039\u001b[0m \u001b[0;34m\u001b[0m\u001b[0m\n\u001b[1;32m   1040\u001b[0m \u001b[0;34m\u001b[0m\u001b[0m\n",
            "\u001b[0;32m/content/spark-3.2.1-bin-hadoop2.7/python/lib/py4j-0.10.9.3-src.zip/py4j/java_gateway.py\u001b[0m in \u001b[0;36m__call__\u001b[0;34m(self, *args)\u001b[0m\n\u001b[1;32m   1320\u001b[0m         \u001b[0manswer\u001b[0m \u001b[0;34m=\u001b[0m \u001b[0mself\u001b[0m\u001b[0;34m.\u001b[0m\u001b[0mgateway_client\u001b[0m\u001b[0;34m.\u001b[0m\u001b[0msend_command\u001b[0m\u001b[0;34m(\u001b[0m\u001b[0mcommand\u001b[0m\u001b[0;34m)\u001b[0m\u001b[0;34m\u001b[0m\u001b[0;34m\u001b[0m\u001b[0m\n\u001b[1;32m   1321\u001b[0m         return_value = get_return_value(\n\u001b[0;32m-> 1322\u001b[0;31m             answer, self.gateway_client, self.target_id, self.name)\n\u001b[0m\u001b[1;32m   1323\u001b[0m \u001b[0;34m\u001b[0m\u001b[0m\n\u001b[1;32m   1324\u001b[0m         \u001b[0;32mfor\u001b[0m \u001b[0mtemp_arg\u001b[0m \u001b[0;32min\u001b[0m \u001b[0mtemp_args\u001b[0m\u001b[0;34m:\u001b[0m\u001b[0;34m\u001b[0m\u001b[0;34m\u001b[0m\u001b[0m\n",
            "\u001b[0;32m/content/spark-3.2.1-bin-hadoop2.7/python/pyspark/sql/utils.py\u001b[0m in \u001b[0;36mdeco\u001b[0;34m(*a, **kw)\u001b[0m\n\u001b[1;32m    109\u001b[0m     \u001b[0;32mdef\u001b[0m \u001b[0mdeco\u001b[0m\u001b[0;34m(\u001b[0m\u001b[0;34m*\u001b[0m\u001b[0ma\u001b[0m\u001b[0;34m,\u001b[0m \u001b[0;34m**\u001b[0m\u001b[0mkw\u001b[0m\u001b[0;34m)\u001b[0m\u001b[0;34m:\u001b[0m\u001b[0;34m\u001b[0m\u001b[0;34m\u001b[0m\u001b[0m\n\u001b[1;32m    110\u001b[0m         \u001b[0;32mtry\u001b[0m\u001b[0;34m:\u001b[0m\u001b[0;34m\u001b[0m\u001b[0;34m\u001b[0m\u001b[0m\n\u001b[0;32m--> 111\u001b[0;31m             \u001b[0;32mreturn\u001b[0m \u001b[0mf\u001b[0m\u001b[0;34m(\u001b[0m\u001b[0;34m*\u001b[0m\u001b[0ma\u001b[0m\u001b[0;34m,\u001b[0m \u001b[0;34m**\u001b[0m\u001b[0mkw\u001b[0m\u001b[0;34m)\u001b[0m\u001b[0;34m\u001b[0m\u001b[0;34m\u001b[0m\u001b[0m\n\u001b[0m\u001b[1;32m    112\u001b[0m         \u001b[0;32mexcept\u001b[0m \u001b[0mpy4j\u001b[0m\u001b[0;34m.\u001b[0m\u001b[0mprotocol\u001b[0m\u001b[0;34m.\u001b[0m\u001b[0mPy4JJavaError\u001b[0m \u001b[0;32mas\u001b[0m \u001b[0me\u001b[0m\u001b[0;34m:\u001b[0m\u001b[0;34m\u001b[0m\u001b[0;34m\u001b[0m\u001b[0m\n\u001b[1;32m    113\u001b[0m             \u001b[0mconverted\u001b[0m \u001b[0;34m=\u001b[0m \u001b[0mconvert_exception\u001b[0m\u001b[0;34m(\u001b[0m\u001b[0me\u001b[0m\u001b[0;34m.\u001b[0m\u001b[0mjava_exception\u001b[0m\u001b[0;34m)\u001b[0m\u001b[0;34m\u001b[0m\u001b[0;34m\u001b[0m\u001b[0m\n",
            "\u001b[0;32m/content/spark-3.2.1-bin-hadoop2.7/python/lib/py4j-0.10.9.3-src.zip/py4j/protocol.py\u001b[0m in \u001b[0;36mget_return_value\u001b[0;34m(answer, gateway_client, target_id, name)\u001b[0m\n\u001b[1;32m    326\u001b[0m                 raise Py4JJavaError(\n\u001b[1;32m    327\u001b[0m                     \u001b[0;34m\"An error occurred while calling {0}{1}{2}.\\n\"\u001b[0m\u001b[0;34m.\u001b[0m\u001b[0;34m\u001b[0m\u001b[0;34m\u001b[0m\u001b[0m\n\u001b[0;32m--> 328\u001b[0;31m                     format(target_id, \".\", name), value)\n\u001b[0m\u001b[1;32m    329\u001b[0m             \u001b[0;32melse\u001b[0m\u001b[0;34m:\u001b[0m\u001b[0;34m\u001b[0m\u001b[0;34m\u001b[0m\u001b[0m\n\u001b[1;32m    330\u001b[0m                 raise Py4JError(\n",
            "\u001b[0;31mPy4JJavaError\u001b[0m: An error occurred while calling o121.jdbc.\n: org.postgresql.util.PSQLException: FATAL: database \"database-1\" does not exist\n\tat org.postgresql.core.v3.QueryExecutorImpl.receiveErrorResponse(QueryExecutorImpl.java:2553)\n\tat org.postgresql.core.v3.QueryExecutorImpl.readStartupMessages(QueryExecutorImpl.java:2665)\n\tat org.postgresql.core.v3.QueryExecutorImpl.<init>(QueryExecutorImpl.java:147)\n\tat org.postgresql.core.v3.ConnectionFactoryImpl.openConnectionImpl(ConnectionFactoryImpl.java:273)\n\tat org.postgresql.core.ConnectionFactory.openConnection(ConnectionFactory.java:51)\n\tat org.postgresql.jdbc.PgConnection.<init>(PgConnection.java:225)\n\tat org.postgresql.Driver.makeConnection(Driver.java:465)\n\tat org.postgresql.Driver.connect(Driver.java:264)\n\tat org.apache.spark.sql.execution.datasources.jdbc.connection.BasicConnectionProvider.getConnection(BasicConnectionProvider.scala:49)\n\tat org.apache.spark.sql.execution.datasources.jdbc.connection.ConnectionProvider$.create(ConnectionProvider.scala:77)\n\tat org.apache.spark.sql.execution.datasources.jdbc.JdbcUtils$.$anonfun$createConnectionFactory$1(JdbcUtils.scala:64)\n\tat org.apache.spark.sql.execution.datasources.jdbc.JdbcRelationProvider.createRelation(JdbcRelationProvider.scala:49)\n\tat org.apache.spark.sql.execution.datasources.SaveIntoDataSourceCommand.run(SaveIntoDataSourceCommand.scala:45)\n\tat org.apache.spark.sql.execution.command.ExecutedCommandExec.sideEffectResult$lzycompute(commands.scala:75)\n\tat org.apache.spark.sql.execution.command.ExecutedCommandExec.sideEffectResult(commands.scala:73)\n\tat org.apache.spark.sql.execution.command.ExecutedCommandExec.executeCollect(commands.scala:84)\n\tat org.apache.spark.sql.execution.QueryExecution$$anonfun$eagerlyExecuteCommands$1.$anonfun$applyOrElse$1(QueryExecution.scala:110)\n\tat org.apache.spark.sql.execution.SQLExecution$.$anonfun$withNewExecutionId$5(SQLExecution.scala:103)\n\tat org.apache.spark.sql.execution.SQLExecution$.withSQLConfPropagated(SQLExecution.scala:163)\n\tat org.apache.spark.sql.execution.SQLExecution$.$anonfun$withNewExecutionId$1(SQLExecution.scala:90)\n\tat org.apache.spark.sql.SparkSession.withActive(SparkSession.scala:775)\n\tat org.apache.spark.sql.execution.SQLExecution$.withNewExecutionId(SQLExecution.scala:64)\n\tat org.apache.spark.sql.execution.QueryExecution$$anonfun$eagerlyExecuteCommands$1.applyOrElse(QueryExecution.scala:110)\n\tat org.apache.spark.sql.execution.QueryExecution$$anonfun$eagerlyExecuteCommands$1.applyOrElse(QueryExecution.scala:106)\n\tat org.apache.spark.sql.catalyst.trees.TreeNode.$anonfun$transformDownWithPruning$1(TreeNode.scala:481)\n\tat org.apache.spark.sql.catalyst.trees.CurrentOrigin$.withOrigin(TreeNode.scala:82)\n\tat org.apache.spark.sql.catalyst.trees.TreeNode.transformDownWithPruning(TreeNode.scala:481)\n\tat org.apache.spark.sql.catalyst.plans.logical.LogicalPlan.org$apache$spark$sql$catalyst$plans$logical$AnalysisHelper$$super$transformDownWithPruning(LogicalPlan.scala:30)\n\tat org.apache.spark.sql.catalyst.plans.logical.AnalysisHelper.transformDownWithPruning(AnalysisHelper.scala:267)\n\tat org.apache.spark.sql.catalyst.plans.logical.AnalysisHelper.transformDownWithPruning$(AnalysisHelper.scala:263)\n\tat org.apache.spark.sql.catalyst.plans.logical.LogicalPlan.transformDownWithPruning(LogicalPlan.scala:30)\n\tat org.apache.spark.sql.catalyst.plans.logical.LogicalPlan.transformDownWithPruning(LogicalPlan.scala:30)\n\tat org.apache.spark.sql.catalyst.trees.TreeNode.transformDown(TreeNode.scala:457)\n\tat org.apache.spark.sql.execution.QueryExecution.eagerlyExecuteCommands(QueryExecution.scala:106)\n\tat org.apache.spark.sql.execution.QueryExecution.commandExecuted$lzycompute(QueryExecution.scala:93)\n\tat org.apache.spark.sql.execution.QueryExecution.commandExecuted(QueryExecution.scala:91)\n\tat org.apache.spark.sql.execution.QueryExecution.assertCommandExecuted(QueryExecution.scala:128)\n\tat org.apache.spark.sql.DataFrameWriter.runCommand(DataFrameWriter.scala:848)\n\tat org.apache.spark.sql.DataFrameWriter.saveToV1Source(DataFrameWriter.scala:382)\n\tat org.apache.spark.sql.DataFrameWriter.saveInternal(DataFrameWriter.scala:355)\n\tat org.apache.spark.sql.DataFrameWriter.save(DataFrameWriter.scala:247)\n\tat org.apache.spark.sql.DataFrameWriter.jdbc(DataFrameWriter.scala:745)\n\tat java.base/jdk.internal.reflect.NativeMethodAccessorImpl.invoke0(Native Method)\n\tat java.base/jdk.internal.reflect.NativeMethodAccessorImpl.invoke(NativeMethodAccessorImpl.java:62)\n\tat java.base/jdk.internal.reflect.DelegatingMethodAccessorImpl.invoke(DelegatingMethodAccessorImpl.java:43)\n\tat java.base/java.lang.reflect.Method.invoke(Method.java:566)\n\tat py4j.reflection.MethodInvoker.invoke(MethodInvoker.java:244)\n\tat py4j.reflection.ReflectionEngine.invoke(ReflectionEngine.java:357)\n\tat py4j.Gateway.invoke(Gateway.java:282)\n\tat py4j.commands.AbstractCommand.invokeMethod(AbstractCommand.java:132)\n\tat py4j.commands.CallCommand.execute(CallCommand.java:79)\n\tat py4j.ClientServerConnection.waitForCommands(ClientServerConnection.java:182)\n\tat py4j.ClientServerConnection.run(ClientServerConnection.java:106)\n\tat java.base/java.lang.Thread.run(Thread.java:829)\n"
          ]
        }
      ]
    }
  ],
  "metadata": {
    "kernelspec": {
      "display_name": "Python 3 (ipykernel)",
      "language": "python",
      "name": "python3"
    },
    "language_info": {
      "codemirror_mode": {
        "name": "ipython",
        "version": 3
      },
      "file_extension": ".py",
      "mimetype": "text/x-python",
      "name": "python",
      "nbconvert_exporter": "python",
      "pygments_lexer": "ipython3",
      "version": "3.9.7"
    },
    "colab": {
      "name": "data_cleaning_s3.ipynb",
      "provenance": [],
      "collapsed_sections": [],
      "include_colab_link": true
    }
  },
  "nbformat": 4,
  "nbformat_minor": 5
}