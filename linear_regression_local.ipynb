{
 "cells": [
  {
   "cell_type": "markdown",
   "id": "0705afa9",
   "metadata": {},
   "source": [
    "## Import Dependencies"
   ]
  },
  {
   "cell_type": "code",
   "execution_count": 1,
   "id": "309fdc8b",
   "metadata": {},
   "outputs": [],
   "source": [
    "import pandas as pd\n",
    "import csv\n",
    "import plotly.express as px\n",
    "import seaborn as sns\n",
    "import matplotlib.pyplot as plt\n",
    "%matplotlib inline\n",
    "import numpy as np\n",
    "from sklearn.linear_model import LinearRegression\n",
    "import math\n",
    "from sklearn import metrics\n",
    "from sklearn.preprocessing import StandardScaler\n",
    "from sklearn.model_selection import train_test_split\n",
    "from sklearn.metrics import accuracy_score"
   ]
  },
  {
   "cell_type": "markdown",
   "id": "649132cd",
   "metadata": {},
   "source": [
    "## Import Dataset"
   ]
  },
  {
   "cell_type": "code",
   "execution_count": 2,
   "id": "0380a7af",
   "metadata": {},
   "outputs": [],
   "source": [
    "complete = \"Resources/complete_df.csv\"\n",
    "complete_df = pd.read_csv(complete)"
   ]
  },
  {
   "cell_type": "markdown",
   "id": "99643b13",
   "metadata": {},
   "source": [
    "## Data Analysis"
   ]
  },
  {
   "cell_type": "code",
   "execution_count": 3,
   "id": "4c368aab",
   "metadata": {},
   "outputs": [
    {
     "data": {
      "text/html": [
       "<div>\n",
       "<style scoped>\n",
       "    .dataframe tbody tr th:only-of-type {\n",
       "        vertical-align: middle;\n",
       "    }\n",
       "\n",
       "    .dataframe tbody tr th {\n",
       "        vertical-align: top;\n",
       "    }\n",
       "\n",
       "    .dataframe thead th {\n",
       "        text-align: right;\n",
       "    }\n",
       "</style>\n",
       "<table border=\"1\" class=\"dataframe\">\n",
       "  <thead>\n",
       "    <tr style=\"text-align: right;\">\n",
       "      <th></th>\n",
       "      <th>CountyID</th>\n",
       "      <th>AverageSalesPrice2019</th>\n",
       "      <th>AverageSalesPrice2020</th>\n",
       "      <th>Population 2019</th>\n",
       "      <th>Violent Crime Total 2019</th>\n",
       "      <th>Property Crime Total 2019</th>\n",
       "      <th>Population 2020</th>\n",
       "      <th>Violent Crime Total 2020</th>\n",
       "      <th>Property Crime Total 2020</th>\n",
       "      <th>Income_2019</th>\n",
       "      <th>Income_2020</th>\n",
       "    </tr>\n",
       "  </thead>\n",
       "  <tbody>\n",
       "    <tr>\n",
       "      <th>0</th>\n",
       "      <td>26017.0</td>\n",
       "      <td>59150.0</td>\n",
       "      <td>64300.0</td>\n",
       "      <td>32793.0</td>\n",
       "      <td>271.0</td>\n",
       "      <td>654.0</td>\n",
       "      <td>32485.0</td>\n",
       "      <td>276.0</td>\n",
       "      <td>500.0</td>\n",
       "      <td>43554.0</td>\n",
       "      <td>47786.0</td>\n",
       "    </tr>\n",
       "    <tr>\n",
       "      <th>1</th>\n",
       "      <td>19179.0</td>\n",
       "      <td>77258.0</td>\n",
       "      <td>68800.0</td>\n",
       "      <td>24488.0</td>\n",
       "      <td>134.0</td>\n",
       "      <td>1009.0</td>\n",
       "      <td>24293.0</td>\n",
       "      <td>230.0</td>\n",
       "      <td>949.0</td>\n",
       "      <td>39576.0</td>\n",
       "      <td>42889.0</td>\n",
       "    </tr>\n",
       "    <tr>\n",
       "      <th>2</th>\n",
       "      <td>40137.0</td>\n",
       "      <td>77675.0</td>\n",
       "      <td>84600.0</td>\n",
       "      <td>22296.0</td>\n",
       "      <td>37.0</td>\n",
       "      <td>733.0</td>\n",
       "      <td>22226.0</td>\n",
       "      <td>42.0</td>\n",
       "      <td>895.0</td>\n",
       "      <td>44182.0</td>\n",
       "      <td>46027.0</td>\n",
       "    </tr>\n",
       "    <tr>\n",
       "      <th>3</th>\n",
       "      <td>51173.0</td>\n",
       "      <td>84708.0</td>\n",
       "      <td>90800.0</td>\n",
       "      <td>5593.0</td>\n",
       "      <td>24.0</td>\n",
       "      <td>224.0</td>\n",
       "      <td>5515.0</td>\n",
       "      <td>25.0</td>\n",
       "      <td>156.0</td>\n",
       "      <td>36800.0</td>\n",
       "      <td>40220.0</td>\n",
       "    </tr>\n",
       "    <tr>\n",
       "      <th>4</th>\n",
       "      <td>39039.0</td>\n",
       "      <td>86583.0</td>\n",
       "      <td>88100.0</td>\n",
       "      <td>16601.0</td>\n",
       "      <td>22.0</td>\n",
       "      <td>225.0</td>\n",
       "      <td>16576.0</td>\n",
       "      <td>25.0</td>\n",
       "      <td>235.0</td>\n",
       "      <td>41905.0</td>\n",
       "      <td>45385.0</td>\n",
       "    </tr>\n",
       "  </tbody>\n",
       "</table>\n",
       "</div>"
      ],
      "text/plain": [
       "   CountyID  AverageSalesPrice2019  AverageSalesPrice2020  Population 2019  \\\n",
       "0   26017.0                59150.0                64300.0          32793.0   \n",
       "1   19179.0                77258.0                68800.0          24488.0   \n",
       "2   40137.0                77675.0                84600.0          22296.0   \n",
       "3   51173.0                84708.0                90800.0           5593.0   \n",
       "4   39039.0                86583.0                88100.0          16601.0   \n",
       "\n",
       "   Violent Crime Total 2019  Property Crime Total 2019  Population 2020  \\\n",
       "0                     271.0                      654.0          32485.0   \n",
       "1                     134.0                     1009.0          24293.0   \n",
       "2                      37.0                      733.0          22226.0   \n",
       "3                      24.0                      224.0           5515.0   \n",
       "4                      22.0                      225.0          16576.0   \n",
       "\n",
       "   Violent Crime Total 2020  Property Crime Total 2020  Income_2019  \\\n",
       "0                     276.0                      500.0      43554.0   \n",
       "1                     230.0                      949.0      39576.0   \n",
       "2                      42.0                      895.0      44182.0   \n",
       "3                      25.0                      156.0      36800.0   \n",
       "4                      25.0                      235.0      41905.0   \n",
       "\n",
       "   Income_2020  \n",
       "0      47786.0  \n",
       "1      42889.0  \n",
       "2      46027.0  \n",
       "3      40220.0  \n",
       "4      45385.0  "
      ]
     },
     "execution_count": 3,
     "metadata": {},
     "output_type": "execute_result"
    }
   ],
   "source": [
    "complete_df.head()"
   ]
  },
  {
   "cell_type": "code",
   "execution_count": 4,
   "id": "8caa86ad",
   "metadata": {},
   "outputs": [
    {
     "data": {
      "text/html": [
       "<div>\n",
       "<style scoped>\n",
       "    .dataframe tbody tr th:only-of-type {\n",
       "        vertical-align: middle;\n",
       "    }\n",
       "\n",
       "    .dataframe tbody tr th {\n",
       "        vertical-align: top;\n",
       "    }\n",
       "\n",
       "    .dataframe thead th {\n",
       "        text-align: right;\n",
       "    }\n",
       "</style>\n",
       "<table border=\"1\" class=\"dataframe\">\n",
       "  <thead>\n",
       "    <tr style=\"text-align: right;\">\n",
       "      <th></th>\n",
       "      <th>CountyID</th>\n",
       "      <th>AverageSalesPrice2019</th>\n",
       "      <th>AverageSalesPrice2020</th>\n",
       "      <th>Population 2019</th>\n",
       "      <th>Violent Crime Total 2019</th>\n",
       "      <th>Property Crime Total 2019</th>\n",
       "      <th>Population 2020</th>\n",
       "      <th>Violent Crime Total 2020</th>\n",
       "      <th>Property Crime Total 2020</th>\n",
       "      <th>Income_2019</th>\n",
       "      <th>Income_2020</th>\n",
       "    </tr>\n",
       "  </thead>\n",
       "  <tbody>\n",
       "    <tr>\n",
       "      <th>CountyID</th>\n",
       "      <td>1.000000</td>\n",
       "      <td>-0.211552</td>\n",
       "      <td>-0.215442</td>\n",
       "      <td>-0.029578</td>\n",
       "      <td>-0.024072</td>\n",
       "      <td>-0.033191</td>\n",
       "      <td>-0.034416</td>\n",
       "      <td>-0.024150</td>\n",
       "      <td>-0.026744</td>\n",
       "      <td>-0.047528</td>\n",
       "      <td>-0.070306</td>\n",
       "    </tr>\n",
       "    <tr>\n",
       "      <th>AverageSalesPrice2019</th>\n",
       "      <td>-0.211552</td>\n",
       "      <td>1.000000</td>\n",
       "      <td>0.992651</td>\n",
       "      <td>0.352306</td>\n",
       "      <td>0.325043</td>\n",
       "      <td>0.403447</td>\n",
       "      <td>0.354582</td>\n",
       "      <td>0.314959</td>\n",
       "      <td>0.391172</td>\n",
       "      <td>0.566044</td>\n",
       "      <td>0.587804</td>\n",
       "    </tr>\n",
       "    <tr>\n",
       "      <th>AverageSalesPrice2020</th>\n",
       "      <td>-0.215442</td>\n",
       "      <td>0.992651</td>\n",
       "      <td>1.000000</td>\n",
       "      <td>0.354861</td>\n",
       "      <td>0.329261</td>\n",
       "      <td>0.405274</td>\n",
       "      <td>0.357489</td>\n",
       "      <td>0.318643</td>\n",
       "      <td>0.392805</td>\n",
       "      <td>0.564299</td>\n",
       "      <td>0.585419</td>\n",
       "    </tr>\n",
       "    <tr>\n",
       "      <th>Population 2019</th>\n",
       "      <td>-0.029578</td>\n",
       "      <td>0.352306</td>\n",
       "      <td>0.354861</td>\n",
       "      <td>1.000000</td>\n",
       "      <td>0.952622</td>\n",
       "      <td>0.887779</td>\n",
       "      <td>0.993108</td>\n",
       "      <td>0.927979</td>\n",
       "      <td>0.897416</td>\n",
       "      <td>0.363551</td>\n",
       "      <td>0.365932</td>\n",
       "    </tr>\n",
       "    <tr>\n",
       "      <th>Violent Crime Total 2019</th>\n",
       "      <td>-0.024072</td>\n",
       "      <td>0.325043</td>\n",
       "      <td>0.329261</td>\n",
       "      <td>0.952622</td>\n",
       "      <td>1.000000</td>\n",
       "      <td>0.937680</td>\n",
       "      <td>0.944966</td>\n",
       "      <td>0.986203</td>\n",
       "      <td>0.932253</td>\n",
       "      <td>0.305726</td>\n",
       "      <td>0.308510</td>\n",
       "    </tr>\n",
       "    <tr>\n",
       "      <th>Property Crime Total 2019</th>\n",
       "      <td>-0.033191</td>\n",
       "      <td>0.403447</td>\n",
       "      <td>0.405274</td>\n",
       "      <td>0.887779</td>\n",
       "      <td>0.937680</td>\n",
       "      <td>1.000000</td>\n",
       "      <td>0.881096</td>\n",
       "      <td>0.929736</td>\n",
       "      <td>0.978880</td>\n",
       "      <td>0.297474</td>\n",
       "      <td>0.302034</td>\n",
       "    </tr>\n",
       "    <tr>\n",
       "      <th>Population 2020</th>\n",
       "      <td>-0.034416</td>\n",
       "      <td>0.354582</td>\n",
       "      <td>0.357489</td>\n",
       "      <td>0.993108</td>\n",
       "      <td>0.944966</td>\n",
       "      <td>0.881096</td>\n",
       "      <td>1.000000</td>\n",
       "      <td>0.936607</td>\n",
       "      <td>0.909986</td>\n",
       "      <td>0.367179</td>\n",
       "      <td>0.370139</td>\n",
       "    </tr>\n",
       "    <tr>\n",
       "      <th>Violent Crime Total 2020</th>\n",
       "      <td>-0.024150</td>\n",
       "      <td>0.314959</td>\n",
       "      <td>0.318643</td>\n",
       "      <td>0.927979</td>\n",
       "      <td>0.986203</td>\n",
       "      <td>0.929736</td>\n",
       "      <td>0.936607</td>\n",
       "      <td>1.000000</td>\n",
       "      <td>0.949549</td>\n",
       "      <td>0.295652</td>\n",
       "      <td>0.298273</td>\n",
       "    </tr>\n",
       "    <tr>\n",
       "      <th>Property Crime Total 2020</th>\n",
       "      <td>-0.026744</td>\n",
       "      <td>0.391172</td>\n",
       "      <td>0.392805</td>\n",
       "      <td>0.897416</td>\n",
       "      <td>0.932253</td>\n",
       "      <td>0.978880</td>\n",
       "      <td>0.909986</td>\n",
       "      <td>0.949549</td>\n",
       "      <td>1.000000</td>\n",
       "      <td>0.315849</td>\n",
       "      <td>0.319451</td>\n",
       "    </tr>\n",
       "    <tr>\n",
       "      <th>Income_2019</th>\n",
       "      <td>-0.047528</td>\n",
       "      <td>0.566044</td>\n",
       "      <td>0.564299</td>\n",
       "      <td>0.363551</td>\n",
       "      <td>0.305726</td>\n",
       "      <td>0.297474</td>\n",
       "      <td>0.367179</td>\n",
       "      <td>0.295652</td>\n",
       "      <td>0.315849</td>\n",
       "      <td>1.000000</td>\n",
       "      <td>0.996504</td>\n",
       "    </tr>\n",
       "    <tr>\n",
       "      <th>Income_2020</th>\n",
       "      <td>-0.070306</td>\n",
       "      <td>0.587804</td>\n",
       "      <td>0.585419</td>\n",
       "      <td>0.365932</td>\n",
       "      <td>0.308510</td>\n",
       "      <td>0.302034</td>\n",
       "      <td>0.370139</td>\n",
       "      <td>0.298273</td>\n",
       "      <td>0.319451</td>\n",
       "      <td>0.996504</td>\n",
       "      <td>1.000000</td>\n",
       "    </tr>\n",
       "  </tbody>\n",
       "</table>\n",
       "</div>"
      ],
      "text/plain": [
       "                           CountyID  AverageSalesPrice2019  \\\n",
       "CountyID                   1.000000              -0.211552   \n",
       "AverageSalesPrice2019     -0.211552               1.000000   \n",
       "AverageSalesPrice2020     -0.215442               0.992651   \n",
       "Population 2019           -0.029578               0.352306   \n",
       "Violent Crime Total 2019  -0.024072               0.325043   \n",
       "Property Crime Total 2019 -0.033191               0.403447   \n",
       "Population 2020           -0.034416               0.354582   \n",
       "Violent Crime Total 2020  -0.024150               0.314959   \n",
       "Property Crime Total 2020 -0.026744               0.391172   \n",
       "Income_2019               -0.047528               0.566044   \n",
       "Income_2020               -0.070306               0.587804   \n",
       "\n",
       "                           AverageSalesPrice2020  Population 2019  \\\n",
       "CountyID                               -0.215442        -0.029578   \n",
       "AverageSalesPrice2019                   0.992651         0.352306   \n",
       "AverageSalesPrice2020                   1.000000         0.354861   \n",
       "Population 2019                         0.354861         1.000000   \n",
       "Violent Crime Total 2019                0.329261         0.952622   \n",
       "Property Crime Total 2019               0.405274         0.887779   \n",
       "Population 2020                         0.357489         0.993108   \n",
       "Violent Crime Total 2020                0.318643         0.927979   \n",
       "Property Crime Total 2020               0.392805         0.897416   \n",
       "Income_2019                             0.564299         0.363551   \n",
       "Income_2020                             0.585419         0.365932   \n",
       "\n",
       "                           Violent Crime Total 2019  \\\n",
       "CountyID                                  -0.024072   \n",
       "AverageSalesPrice2019                      0.325043   \n",
       "AverageSalesPrice2020                      0.329261   \n",
       "Population 2019                            0.952622   \n",
       "Violent Crime Total 2019                   1.000000   \n",
       "Property Crime Total 2019                  0.937680   \n",
       "Population 2020                            0.944966   \n",
       "Violent Crime Total 2020                   0.986203   \n",
       "Property Crime Total 2020                  0.932253   \n",
       "Income_2019                                0.305726   \n",
       "Income_2020                                0.308510   \n",
       "\n",
       "                           Property Crime Total 2019  Population 2020  \\\n",
       "CountyID                                   -0.033191        -0.034416   \n",
       "AverageSalesPrice2019                       0.403447         0.354582   \n",
       "AverageSalesPrice2020                       0.405274         0.357489   \n",
       "Population 2019                             0.887779         0.993108   \n",
       "Violent Crime Total 2019                    0.937680         0.944966   \n",
       "Property Crime Total 2019                   1.000000         0.881096   \n",
       "Population 2020                             0.881096         1.000000   \n",
       "Violent Crime Total 2020                    0.929736         0.936607   \n",
       "Property Crime Total 2020                   0.978880         0.909986   \n",
       "Income_2019                                 0.297474         0.367179   \n",
       "Income_2020                                 0.302034         0.370139   \n",
       "\n",
       "                           Violent Crime Total 2020  \\\n",
       "CountyID                                  -0.024150   \n",
       "AverageSalesPrice2019                      0.314959   \n",
       "AverageSalesPrice2020                      0.318643   \n",
       "Population 2019                            0.927979   \n",
       "Violent Crime Total 2019                   0.986203   \n",
       "Property Crime Total 2019                  0.929736   \n",
       "Population 2020                            0.936607   \n",
       "Violent Crime Total 2020                   1.000000   \n",
       "Property Crime Total 2020                  0.949549   \n",
       "Income_2019                                0.295652   \n",
       "Income_2020                                0.298273   \n",
       "\n",
       "                           Property Crime Total 2020  Income_2019  Income_2020  \n",
       "CountyID                                   -0.026744    -0.047528    -0.070306  \n",
       "AverageSalesPrice2019                       0.391172     0.566044     0.587804  \n",
       "AverageSalesPrice2020                       0.392805     0.564299     0.585419  \n",
       "Population 2019                             0.897416     0.363551     0.365932  \n",
       "Violent Crime Total 2019                    0.932253     0.305726     0.308510  \n",
       "Property Crime Total 2019                   0.978880     0.297474     0.302034  \n",
       "Population 2020                             0.909986     0.367179     0.370139  \n",
       "Violent Crime Total 2020                    0.949549     0.295652     0.298273  \n",
       "Property Crime Total 2020                   1.000000     0.315849     0.319451  \n",
       "Income_2019                                 0.315849     1.000000     0.996504  \n",
       "Income_2020                                 0.319451     0.996504     1.000000  "
      ]
     },
     "execution_count": 4,
     "metadata": {},
     "output_type": "execute_result"
    }
   ],
   "source": [
    "complete_df.corr()"
   ]
  },
  {
   "cell_type": "markdown",
   "id": "14cb59f3",
   "metadata": {},
   "source": [
    "##### The feature 'CountyID' is irrelevant so the column is dropped"
   ]
  },
  {
   "cell_type": "code",
   "execution_count": 5,
   "id": "3f23d8ad",
   "metadata": {},
   "outputs": [],
   "source": [
    "complete_df = complete_df.drop('CountyID', axis=1)"
   ]
  },
  {
   "cell_type": "code",
   "execution_count": 6,
   "id": "b5c2076c",
   "metadata": {},
   "outputs": [
    {
     "name": "stdout",
     "output_type": "stream",
     "text": [
      "<class 'pandas.core.frame.DataFrame'>\n",
      "RangeIndex: 764 entries, 0 to 763\n",
      "Data columns (total 10 columns):\n",
      " #   Column                     Non-Null Count  Dtype  \n",
      "---  ------                     --------------  -----  \n",
      " 0   AverageSalesPrice2019      764 non-null    float64\n",
      " 1   AverageSalesPrice2020      764 non-null    float64\n",
      " 2   Population 2019            764 non-null    float64\n",
      " 3   Violent Crime Total 2019   764 non-null    float64\n",
      " 4   Property Crime Total 2019  764 non-null    float64\n",
      " 5   Population 2020            764 non-null    float64\n",
      " 6   Violent Crime Total 2020   764 non-null    float64\n",
      " 7   Property Crime Total 2020  764 non-null    float64\n",
      " 8   Income_2019                764 non-null    float64\n",
      " 9   Income_2020                764 non-null    float64\n",
      "dtypes: float64(10)\n",
      "memory usage: 59.8 KB\n"
     ]
    }
   ],
   "source": [
    "complete_df.info()"
   ]
  },
  {
   "cell_type": "markdown",
   "id": "c45dfdb8",
   "metadata": {},
   "source": [
    "#### Heatmap"
   ]
  },
  {
   "cell_type": "code",
   "execution_count": 7,
   "id": "6236559e",
   "metadata": {},
   "outputs": [
    {
     "data": {
      "image/png": "[encoded data removed]",
      "text/plain": [
       "<Figure size 432x288 with 2 Axes>"
      ]
     },
     "metadata": {
      "needs_background": "light"
     },
     "output_type": "display_data"
    }
   ],
   "source": [
    "sns.heatmap(complete_df.corr(), annot=True, cmap='Reds');\n",
    "plt.title('Correlation Matrix');"
   ]
  },
  {
   "cell_type": "markdown",
   "id": "57a61988",
   "metadata": {},
   "source": [
    "### Results\n",
    "__Variables in decreasing correlation order__:\n",
    "<br>\n",
    "1) AverageSalesPrice2019\n",
    "<br>\n",
    "2) Income_2020\n",
    "<br>\n",
    "3) Income_2019\n",
    "<br>\n",
    "4) Property Crime Total 2019\n",
    "<br>\n",
    "5) Property Crime Total 2020\n",
    "<br>\n",
    "6) Population 2020\n",
    "<br>\n",
    "7) Population 2019\n",
    "<br>\n",
    "8) Violent Crime Total 2019\n",
    "<br>\n",
    "9) Violent Crime Total 2020"
   ]
  },
  {
   "cell_type": "markdown",
   "id": "69e2dd3a",
   "metadata": {},
   "source": [
    "## Linear Regression Model"
   ]
  },
  {
   "cell_type": "markdown",
   "id": "8076d864",
   "metadata": {},
   "source": [
    "### __Features in this model:__\n",
    "__AverageSalesPrice2019:__ Average median house sales price in various USA counties in 2019\n",
    "<br>\n",
    "__AverageSalesPrice2020:__ Average median house sales price in various USA counties in 2020\n",
    "<br>\n",
    "__Population 2019:__ Population in various USA counties in 2019\n",
    "<br>\n",
    "__Violent Crime Total 2019:__ Total amount of violent crimes in various USA counties in 2019\n",
    "<br>\n",
    "__Property Crime Total 2019:__ Total amount of property crimes in various USA counties in 2019\n",
    "<br>\n",
    "__Population 2020:__ Population in various USA counties in 2020\n",
    "<br>\n",
    "__Violent Crime Total 2020:__ Total amount of violent crimes in various USA counties in 2020\n",
    "<br>\n",
    "__Property Crime Total 2020:__ Total amount of property crimes in various USA counties in 2020\n",
    "<br>\n",
    "__Income_2019:__ Average median household income in various USA counties in 2019\n",
    "<br>\n",
    "__Income_2020:__ Average median household income in various USA counties in 2020"
   ]
  },
  {
   "cell_type": "markdown",
   "id": "406923eb",
   "metadata": {},
   "source": [
    "### Single Feature"
   ]
  },
  {
   "cell_type": "markdown",
   "id": "2677d739",
   "metadata": {},
   "source": [
    "#### AverageSalesPrice2020 and Income_2020"
   ]
  },
  {
   "cell_type": "code",
   "execution_count": 8,
   "id": "0c3b8866",
   "metadata": {},
   "outputs": [],
   "source": [
    "X = np.array(complete_df['Income_2020'])\n",
    "X = X.reshape((-1,1))\n",
    "Y = np.array(complete_df['AverageSalesPrice2020'])"
   ]
  },
  {
   "cell_type": "code",
   "execution_count": 9,
   "id": "78f573fb",
   "metadata": {},
   "outputs": [],
   "source": [
    "model = LinearRegression().fit(X, Y)"
   ]
  },
  {
   "cell_type": "code",
   "execution_count": 10,
   "id": "de5e9928",
   "metadata": {},
   "outputs": [],
   "source": [
    "Y_pred = model.predict(X)"
   ]
  },
  {
   "cell_type": "code",
   "execution_count": 11,
   "id": "df9973e3",
   "metadata": {},
   "outputs": [
    {
     "data": {
      "image/png": "[encoded data removed]",
      "text/plain": [
       "<Figure size 432x288 with 1 Axes>"
      ]
     },
     "metadata": {
      "needs_background": "light"
     },
     "output_type": "display_data"
    }
   ],
   "source": [
    "sns.scatterplot(data=complete_df,x='Income_2020', y='AverageSalesPrice2020', alpha=0.7, s=15)\n",
    "plt.plot(X, Y_pred, color='r')\n",
    "plt.title('AverageSalesPrice2020 and Income_2020');"
   ]
  },
  {
   "cell_type": "code",
   "execution_count": 12,
   "id": "972ab243",
   "metadata": {},
   "outputs": [
    {
     "name": "stdout",
     "output_type": "stream",
     "text": [
      "Mean Squared Error = 208923.60614757528\n"
     ]
    }
   ],
   "source": [
    "print('Mean Squared Error =',math.sqrt(metrics.mean_squared_error(Y, Y_pred)))"
   ]
  },
  {
   "cell_type": "markdown",
   "id": "db53fcc7",
   "metadata": {},
   "source": [
    "#### AverageSalesPrice2020 and Property Crime Total 2019"
   ]
  },
  {
   "cell_type": "code",
   "execution_count": 13,
   "id": "e30ad674",
   "metadata": {},
   "outputs": [],
   "source": [
    "X = np.array(complete_df['Property Crime Total 2019'])\n",
    "X = X.reshape((-1,1))\n",
    "Y = np.array(complete_df['AverageSalesPrice2020'])"
   ]
  },
  {
   "cell_type": "code",
   "execution_count": 14,
   "id": "e8eb4491",
   "metadata": {},
   "outputs": [],
   "source": [
    "model = LinearRegression().fit(X, Y)"
   ]
  },
  {
   "cell_type": "code",
   "execution_count": 15,
   "id": "1ae92085",
   "metadata": {},
   "outputs": [],
   "source": [
    "Y_pred = model.predict(X)"
   ]
  },
  {
   "cell_type": "code",
   "execution_count": 16,
   "id": "6ccdbe0d",
   "metadata": {},
   "outputs": [
    {
     "data": {
      "image/png": "[encoded data removed]",
      "text/plain": [
       "<Figure size 432x288 with 1 Axes>"
      ]
     },
     "metadata": {
      "needs_background": "light"
     },
     "output_type": "display_data"
    }
   ],
   "source": [
    "sns.scatterplot(data=complete_df,x='Property Crime Total 2019', y='AverageSalesPrice2020', alpha=0.7, s=15)\n",
    "plt.plot(X, Y_pred, color='r')\n",
    "plt.title('AverageSalesPrice2020 and Property Crime Total 2019');"
   ]
  },
  {
   "cell_type": "code",
   "execution_count": 17,
   "id": "57f1a78a",
   "metadata": {},
   "outputs": [
    {
     "name": "stdout",
     "output_type": "stream",
     "text": [
      "Mean Squared Error = 235586.10728270662\n"
     ]
    }
   ],
   "source": [
    "print('Mean Squared Error =',math.sqrt(metrics.mean_squared_error(Y, Y_pred)))"
   ]
  },
  {
   "cell_type": "markdown",
   "id": "f23615ca",
   "metadata": {},
   "source": [
    "#### AverageSalesPrice2020 and Population 2020"
   ]
  },
  {
   "cell_type": "code",
   "execution_count": 18,
   "id": "77427229",
   "metadata": {},
   "outputs": [],
   "source": [
    "X = np.array(complete_df['Population 2020'])\n",
    "X = X.reshape((-1,1))\n",
    "Y = np.array(complete_df['AverageSalesPrice2020'])"
   ]
  },
  {
   "cell_type": "code",
   "execution_count": 19,
   "id": "de86ff19",
   "metadata": {},
   "outputs": [],
   "source": [
    "model = LinearRegression().fit(X, Y)"
   ]
  },
  {
   "cell_type": "code",
   "execution_count": 20,
   "id": "f136ec8c",
   "metadata": {},
   "outputs": [],
   "source": [
    "Y_pred = model.predict(X)"
   ]
  },
  {
   "cell_type": "code",
   "execution_count": 21,
   "id": "15c54428",
   "metadata": {},
   "outputs": [
    {
     "data": {
      "image/png": "[encoded data removed]",
      "text/plain": [
       "<Figure size 432x288 with 1 Axes>"
      ]
     },
     "metadata": {
      "needs_background": "light"
     },
     "output_type": "display_data"
    }
   ],
   "source": [
    "sns.scatterplot(data=complete_df,x='Population 2020', y='AverageSalesPrice2020', alpha=0.7, s=15)\n",
    "plt.plot(X, Y_pred, color='r')\n",
    "plt.title('AverageSalesPrice2020 and Population 2020');"
   ]
  },
  {
   "cell_type": "code",
   "execution_count": 22,
   "id": "f7cb1722",
   "metadata": {},
   "outputs": [
    {
     "name": "stdout",
     "output_type": "stream",
     "text": [
      "Mean Squared Error = 240668.50674309436\n"
     ]
    }
   ],
   "source": [
    "print('Mean Squared Error =',math.sqrt(metrics.mean_squared_error(Y, Y_pred)))"
   ]
  },
  {
   "cell_type": "markdown",
   "id": "a919d371",
   "metadata": {},
   "source": [
    "### Multiple Features"
   ]
  },
  {
   "cell_type": "code",
   "execution_count": 23,
   "id": "8471f12f",
   "metadata": {},
   "outputs": [],
   "source": [
    "X = np.array(complete_df[['AverageSalesPrice2019','Population 2019','Violent Crime Total 2019','Property Crime Total 2019','Population 2020','Violent Crime Total 2020','Property Crime Total 2020','Income_2019','Income_2020']])\n",
    "Y = np.array(complete_df['AverageSalesPrice2020'])"
   ]
  },
  {
   "cell_type": "code",
   "execution_count": 24,
   "id": "3472e83c",
   "metadata": {},
   "outputs": [],
   "source": [
    "model = LinearRegression().fit(X, Y)"
   ]
  },
  {
   "cell_type": "code",
   "execution_count": 25,
   "id": "b19edecb",
   "metadata": {},
   "outputs": [
    {
     "name": "stdout",
     "output_type": "stream",
     "text": [
      "(764,)\n"
     ]
    }
   ],
   "source": [
    "Y_pred = model.predict(X)\n",
    "print(Y_pred.shape)"
   ]
  },
  {
   "cell_type": "code",
   "execution_count": 26,
   "id": "961c1a62",
   "metadata": {},
   "outputs": [
    {
     "name": "stdout",
     "output_type": "stream",
     "text": [
      "20987.537805024185\n"
     ]
    }
   ],
   "source": [
    "print(model.intercept_)"
   ]
  },
  {
   "cell_type": "code",
   "execution_count": 27,
   "id": "208d9ca9",
   "metadata": {},
   "outputs": [
    {
     "name": "stdout",
     "output_type": "stream",
     "text": [
      "R2 Score: 0.985696805957734\n"
     ]
    }
   ],
   "source": [
    "score = model.score(X, Y)\n",
    "print(f\"R2 Score: {score}\")"
   ]
  },
  {
   "cell_type": "markdown",
   "id": "eb2864a1",
   "metadata": {},
   "source": [
    "#### The R2 score indicates the observed data is a good fit of the model"
   ]
  },
  {
   "cell_type": "code",
   "execution_count": 28,
   "id": "1f3a7a2e",
   "metadata": {},
   "outputs": [
    {
     "name": "stdout",
     "output_type": "stream",
     "text": [
      "Mean Squared Error = 30819.620168700414\n"
     ]
    }
   ],
   "source": [
    "print('Mean Squared Error =',math.sqrt(metrics.mean_squared_error(Y, Y_pred)))"
   ]
  },
  {
   "cell_type": "markdown",
   "id": "cf994311",
   "metadata": {},
   "source": [
    "### Model Improvement"
   ]
  },
  {
   "cell_type": "code",
   "execution_count": 29,
   "id": "6ca47c27",
   "metadata": {},
   "outputs": [],
   "source": [
    "scaler = StandardScaler()\n",
    "scaler.fit(complete_df)\n",
    "scaled_X = scaler.transform(complete_df)\n",
    "Y = np.array(complete_df['AverageSalesPrice2020'])"
   ]
  },
  {
   "cell_type": "code",
   "execution_count": 30,
   "id": "c11f4c84",
   "metadata": {},
   "outputs": [],
   "source": [
    "model = LinearRegression().fit(scaled_X, Y)"
   ]
  },
  {
   "cell_type": "code",
   "execution_count": 31,
   "id": "784f2905",
   "metadata": {},
   "outputs": [],
   "source": [
    "Y_pred = model.predict(scaled_X)"
   ]
  },
  {
   "cell_type": "code",
   "execution_count": 32,
   "id": "71882dba",
   "metadata": {},
   "outputs": [
    {
     "name": "stdout",
     "output_type": "stream",
     "text": [
      "Mean Squared Error = 1.3758903625793138e-10\n"
     ]
    }
   ],
   "source": [
    "print('Mean Squared Error =',math.sqrt(metrics.mean_squared_error(Y, Y_pred)))"
   ]
  },
  {
   "cell_type": "markdown",
   "id": "aef8a451",
   "metadata": {},
   "source": [
    "#### Mean Squared Error is significantly reduced"
   ]
  },
  {
   "cell_type": "markdown",
   "id": "562b515f",
   "metadata": {},
   "source": [
    "### Test Data"
   ]
  },
  {
   "cell_type": "code",
   "execution_count": 33,
   "id": "4099f81f",
   "metadata": {},
   "outputs": [],
   "source": [
    "X = np.array(complete_df)\n",
    "Y = np.array(complete_df['AverageSalesPrice2020'])\n",
    "X_train, X_test, Y_train, Y_test = train_test_split(X, Y, test_size =0.5)"
   ]
  },
  {
   "cell_type": "code",
   "execution_count": 34,
   "id": "45b5a034",
   "metadata": {},
   "outputs": [],
   "source": [
    "model = LinearRegression().fit(X_train, Y_train)"
   ]
  },
  {
   "cell_type": "code",
   "execution_count": 35,
   "id": "4ae160a9",
   "metadata": {},
   "outputs": [],
   "source": [
    "Y_train_pred = model.predict(X_train)\n",
    "Y_test_pred = model.predict(X_test)"
   ]
  },
  {
   "cell_type": "code",
   "execution_count": 36,
   "id": "fab5af36",
   "metadata": {},
   "outputs": [
    {
     "name": "stdout",
     "output_type": "stream",
     "text": [
      "Mean Squared Training Error = 6.435214374469442e-10\n",
      "Mean Squared Testing Error = 4.927892467055031e-10\n"
     ]
    }
   ],
   "source": [
    "print('Mean Squared Training Error =',math.sqrt(metrics.mean_squared_error(Y_train, Y_train_pred)))\n",
    "print('Mean Squared Testing Error =',math.sqrt(metrics.mean_squared_error(Y_test, Y_test_pred)))"
   ]
  }
 ],
 "metadata": {
  "kernelspec": {
   "display_name": "mlenv",
   "language": "python",
   "name": "mlenv"
  },
  "language_info": {
   "codemirror_mode": {
    "name": "ipython",
    "version": 3
   },
   "file_extension": ".py",
   "mimetype": "text/x-python",
   "name": "python",
   "nbconvert_exporter": "python",
   "pygments_lexer": "ipython3",
   "version": "3.7.11"
  }
 },
 "nbformat": 4,
 "nbformat_minor": 5
}
